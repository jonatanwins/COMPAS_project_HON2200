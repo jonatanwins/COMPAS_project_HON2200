{
 "cells": [
  {
   "cell_type": "code",
   "execution_count": 40,
   "id": "370b37c5",
   "metadata": {},
   "outputs": [],
   "source": [
    "import pandas as pd\n",
    "import numpy as np\n",
    "import matplotlib.pyplot as plt\n",
    "from sklearn.inspection import PartialDependenceDisplay\n",
    "from sklearn.linear_model import LogisticRegression\n",
    "from sklearn.model_selection import train_test_split"
   ]
  },
  {
   "cell_type": "markdown",
   "id": "69c5ce01",
   "metadata": {},
   "source": [
    "### 1a) les inn og forstå dataene"
   ]
  },
  {
   "cell_type": "code",
   "execution_count": 68,
   "id": "f68c7fdd",
   "metadata": {},
   "outputs": [],
   "source": [
    "url = \"https://raw.githubusercontent.com/propublica/compas-analysis/master/compas-scores-two-years.csv\"\n",
    "\n",
    "df = pd.read_csv(url)"
   ]
  },
  {
   "cell_type": "code",
   "execution_count": 42,
   "id": "7f11b3c7",
   "metadata": {},
   "outputs": [
    {
     "data": {
      "text/html": [
       "<div>\n",
       "<style scoped>\n",
       "    .dataframe tbody tr th:only-of-type {\n",
       "        vertical-align: middle;\n",
       "    }\n",
       "\n",
       "    .dataframe tbody tr th {\n",
       "        vertical-align: top;\n",
       "    }\n",
       "\n",
       "    .dataframe thead th {\n",
       "        text-align: right;\n",
       "    }\n",
       "</style>\n",
       "<table border=\"1\" class=\"dataframe\">\n",
       "  <thead>\n",
       "    <tr style=\"text-align: right;\">\n",
       "      <th></th>\n",
       "      <th>id</th>\n",
       "      <th>name</th>\n",
       "      <th>first</th>\n",
       "      <th>last</th>\n",
       "      <th>compas_screening_date</th>\n",
       "      <th>sex</th>\n",
       "      <th>dob</th>\n",
       "      <th>age</th>\n",
       "      <th>age_cat</th>\n",
       "      <th>race</th>\n",
       "      <th>...</th>\n",
       "      <th>v_decile_score</th>\n",
       "      <th>v_score_text</th>\n",
       "      <th>v_screening_date</th>\n",
       "      <th>in_custody</th>\n",
       "      <th>out_custody</th>\n",
       "      <th>priors_count.1</th>\n",
       "      <th>start</th>\n",
       "      <th>end</th>\n",
       "      <th>event</th>\n",
       "      <th>two_year_recid</th>\n",
       "    </tr>\n",
       "  </thead>\n",
       "  <tbody>\n",
       "    <tr>\n",
       "      <th>0</th>\n",
       "      <td>1</td>\n",
       "      <td>miguel hernandez</td>\n",
       "      <td>miguel</td>\n",
       "      <td>hernandez</td>\n",
       "      <td>2013-08-14</td>\n",
       "      <td>Male</td>\n",
       "      <td>1947-04-18</td>\n",
       "      <td>69</td>\n",
       "      <td>Greater than 45</td>\n",
       "      <td>Other</td>\n",
       "      <td>...</td>\n",
       "      <td>1</td>\n",
       "      <td>Low</td>\n",
       "      <td>2013-08-14</td>\n",
       "      <td>2014-07-07</td>\n",
       "      <td>2014-07-14</td>\n",
       "      <td>0</td>\n",
       "      <td>0</td>\n",
       "      <td>327</td>\n",
       "      <td>0</td>\n",
       "      <td>0</td>\n",
       "    </tr>\n",
       "    <tr>\n",
       "      <th>1</th>\n",
       "      <td>3</td>\n",
       "      <td>kevon dixon</td>\n",
       "      <td>kevon</td>\n",
       "      <td>dixon</td>\n",
       "      <td>2013-01-27</td>\n",
       "      <td>Male</td>\n",
       "      <td>1982-01-22</td>\n",
       "      <td>34</td>\n",
       "      <td>25 - 45</td>\n",
       "      <td>African-American</td>\n",
       "      <td>...</td>\n",
       "      <td>1</td>\n",
       "      <td>Low</td>\n",
       "      <td>2013-01-27</td>\n",
       "      <td>2013-01-26</td>\n",
       "      <td>2013-02-05</td>\n",
       "      <td>0</td>\n",
       "      <td>9</td>\n",
       "      <td>159</td>\n",
       "      <td>1</td>\n",
       "      <td>1</td>\n",
       "    </tr>\n",
       "    <tr>\n",
       "      <th>2</th>\n",
       "      <td>4</td>\n",
       "      <td>ed philo</td>\n",
       "      <td>ed</td>\n",
       "      <td>philo</td>\n",
       "      <td>2013-04-14</td>\n",
       "      <td>Male</td>\n",
       "      <td>1991-05-14</td>\n",
       "      <td>24</td>\n",
       "      <td>Less than 25</td>\n",
       "      <td>African-American</td>\n",
       "      <td>...</td>\n",
       "      <td>3</td>\n",
       "      <td>Low</td>\n",
       "      <td>2013-04-14</td>\n",
       "      <td>2013-06-16</td>\n",
       "      <td>2013-06-16</td>\n",
       "      <td>4</td>\n",
       "      <td>0</td>\n",
       "      <td>63</td>\n",
       "      <td>0</td>\n",
       "      <td>1</td>\n",
       "    </tr>\n",
       "    <tr>\n",
       "      <th>3</th>\n",
       "      <td>5</td>\n",
       "      <td>marcu brown</td>\n",
       "      <td>marcu</td>\n",
       "      <td>brown</td>\n",
       "      <td>2013-01-13</td>\n",
       "      <td>Male</td>\n",
       "      <td>1993-01-21</td>\n",
       "      <td>23</td>\n",
       "      <td>Less than 25</td>\n",
       "      <td>African-American</td>\n",
       "      <td>...</td>\n",
       "      <td>6</td>\n",
       "      <td>Medium</td>\n",
       "      <td>2013-01-13</td>\n",
       "      <td>NaN</td>\n",
       "      <td>NaN</td>\n",
       "      <td>1</td>\n",
       "      <td>0</td>\n",
       "      <td>1174</td>\n",
       "      <td>0</td>\n",
       "      <td>0</td>\n",
       "    </tr>\n",
       "    <tr>\n",
       "      <th>4</th>\n",
       "      <td>6</td>\n",
       "      <td>bouthy pierrelouis</td>\n",
       "      <td>bouthy</td>\n",
       "      <td>pierrelouis</td>\n",
       "      <td>2013-03-26</td>\n",
       "      <td>Male</td>\n",
       "      <td>1973-01-22</td>\n",
       "      <td>43</td>\n",
       "      <td>25 - 45</td>\n",
       "      <td>Other</td>\n",
       "      <td>...</td>\n",
       "      <td>1</td>\n",
       "      <td>Low</td>\n",
       "      <td>2013-03-26</td>\n",
       "      <td>NaN</td>\n",
       "      <td>NaN</td>\n",
       "      <td>2</td>\n",
       "      <td>0</td>\n",
       "      <td>1102</td>\n",
       "      <td>0</td>\n",
       "      <td>0</td>\n",
       "    </tr>\n",
       "    <tr>\n",
       "      <th>5</th>\n",
       "      <td>7</td>\n",
       "      <td>marsha miles</td>\n",
       "      <td>marsha</td>\n",
       "      <td>miles</td>\n",
       "      <td>2013-11-30</td>\n",
       "      <td>Male</td>\n",
       "      <td>1971-08-22</td>\n",
       "      <td>44</td>\n",
       "      <td>25 - 45</td>\n",
       "      <td>Other</td>\n",
       "      <td>...</td>\n",
       "      <td>1</td>\n",
       "      <td>Low</td>\n",
       "      <td>2013-11-30</td>\n",
       "      <td>2013-11-30</td>\n",
       "      <td>2013-12-01</td>\n",
       "      <td>0</td>\n",
       "      <td>1</td>\n",
       "      <td>853</td>\n",
       "      <td>0</td>\n",
       "      <td>0</td>\n",
       "    </tr>\n",
       "    <tr>\n",
       "      <th>6</th>\n",
       "      <td>8</td>\n",
       "      <td>edward riddle</td>\n",
       "      <td>edward</td>\n",
       "      <td>riddle</td>\n",
       "      <td>2014-02-19</td>\n",
       "      <td>Male</td>\n",
       "      <td>1974-07-23</td>\n",
       "      <td>41</td>\n",
       "      <td>25 - 45</td>\n",
       "      <td>Caucasian</td>\n",
       "      <td>...</td>\n",
       "      <td>2</td>\n",
       "      <td>Low</td>\n",
       "      <td>2014-02-19</td>\n",
       "      <td>2014-03-31</td>\n",
       "      <td>2014-04-18</td>\n",
       "      <td>14</td>\n",
       "      <td>5</td>\n",
       "      <td>40</td>\n",
       "      <td>1</td>\n",
       "      <td>1</td>\n",
       "    </tr>\n",
       "    <tr>\n",
       "      <th>7</th>\n",
       "      <td>9</td>\n",
       "      <td>steven stewart</td>\n",
       "      <td>steven</td>\n",
       "      <td>stewart</td>\n",
       "      <td>2013-08-30</td>\n",
       "      <td>Male</td>\n",
       "      <td>1973-02-25</td>\n",
       "      <td>43</td>\n",
       "      <td>25 - 45</td>\n",
       "      <td>Other</td>\n",
       "      <td>...</td>\n",
       "      <td>3</td>\n",
       "      <td>Low</td>\n",
       "      <td>2013-08-30</td>\n",
       "      <td>2014-05-22</td>\n",
       "      <td>2014-06-03</td>\n",
       "      <td>3</td>\n",
       "      <td>0</td>\n",
       "      <td>265</td>\n",
       "      <td>0</td>\n",
       "      <td>0</td>\n",
       "    </tr>\n",
       "    <tr>\n",
       "      <th>8</th>\n",
       "      <td>10</td>\n",
       "      <td>elizabeth thieme</td>\n",
       "      <td>elizabeth</td>\n",
       "      <td>thieme</td>\n",
       "      <td>2014-03-16</td>\n",
       "      <td>Female</td>\n",
       "      <td>1976-06-03</td>\n",
       "      <td>39</td>\n",
       "      <td>25 - 45</td>\n",
       "      <td>Caucasian</td>\n",
       "      <td>...</td>\n",
       "      <td>1</td>\n",
       "      <td>Low</td>\n",
       "      <td>2014-03-16</td>\n",
       "      <td>2014-03-15</td>\n",
       "      <td>2014-03-18</td>\n",
       "      <td>0</td>\n",
       "      <td>2</td>\n",
       "      <td>747</td>\n",
       "      <td>0</td>\n",
       "      <td>0</td>\n",
       "    </tr>\n",
       "    <tr>\n",
       "      <th>9</th>\n",
       "      <td>13</td>\n",
       "      <td>bo bradac</td>\n",
       "      <td>bo</td>\n",
       "      <td>bradac</td>\n",
       "      <td>2013-11-04</td>\n",
       "      <td>Male</td>\n",
       "      <td>1994-06-10</td>\n",
       "      <td>21</td>\n",
       "      <td>Less than 25</td>\n",
       "      <td>Caucasian</td>\n",
       "      <td>...</td>\n",
       "      <td>5</td>\n",
       "      <td>Medium</td>\n",
       "      <td>2013-11-04</td>\n",
       "      <td>2015-01-06</td>\n",
       "      <td>2015-01-07</td>\n",
       "      <td>1</td>\n",
       "      <td>0</td>\n",
       "      <td>428</td>\n",
       "      <td>1</td>\n",
       "      <td>1</td>\n",
       "    </tr>\n",
       "  </tbody>\n",
       "</table>\n",
       "<p>10 rows × 53 columns</p>\n",
       "</div>"
      ],
      "text/plain": [
       "   id                name      first         last compas_screening_date  \\\n",
       "0   1    miguel hernandez     miguel    hernandez            2013-08-14   \n",
       "1   3         kevon dixon      kevon        dixon            2013-01-27   \n",
       "2   4            ed philo         ed        philo            2013-04-14   \n",
       "3   5         marcu brown      marcu        brown            2013-01-13   \n",
       "4   6  bouthy pierrelouis     bouthy  pierrelouis            2013-03-26   \n",
       "5   7        marsha miles     marsha        miles            2013-11-30   \n",
       "6   8       edward riddle     edward       riddle            2014-02-19   \n",
       "7   9      steven stewart     steven      stewart            2013-08-30   \n",
       "8  10    elizabeth thieme  elizabeth       thieme            2014-03-16   \n",
       "9  13           bo bradac         bo       bradac            2013-11-04   \n",
       "\n",
       "      sex         dob  age          age_cat              race  ...  \\\n",
       "0    Male  1947-04-18   69  Greater than 45             Other  ...   \n",
       "1    Male  1982-01-22   34          25 - 45  African-American  ...   \n",
       "2    Male  1991-05-14   24     Less than 25  African-American  ...   \n",
       "3    Male  1993-01-21   23     Less than 25  African-American  ...   \n",
       "4    Male  1973-01-22   43          25 - 45             Other  ...   \n",
       "5    Male  1971-08-22   44          25 - 45             Other  ...   \n",
       "6    Male  1974-07-23   41          25 - 45         Caucasian  ...   \n",
       "7    Male  1973-02-25   43          25 - 45             Other  ...   \n",
       "8  Female  1976-06-03   39          25 - 45         Caucasian  ...   \n",
       "9    Male  1994-06-10   21     Less than 25         Caucasian  ...   \n",
       "\n",
       "   v_decile_score  v_score_text  v_screening_date  in_custody  out_custody  \\\n",
       "0               1           Low        2013-08-14  2014-07-07   2014-07-14   \n",
       "1               1           Low        2013-01-27  2013-01-26   2013-02-05   \n",
       "2               3           Low        2013-04-14  2013-06-16   2013-06-16   \n",
       "3               6        Medium        2013-01-13         NaN          NaN   \n",
       "4               1           Low        2013-03-26         NaN          NaN   \n",
       "5               1           Low        2013-11-30  2013-11-30   2013-12-01   \n",
       "6               2           Low        2014-02-19  2014-03-31   2014-04-18   \n",
       "7               3           Low        2013-08-30  2014-05-22   2014-06-03   \n",
       "8               1           Low        2014-03-16  2014-03-15   2014-03-18   \n",
       "9               5        Medium        2013-11-04  2015-01-06   2015-01-07   \n",
       "\n",
       "   priors_count.1 start   end event two_year_recid  \n",
       "0               0     0   327     0              0  \n",
       "1               0     9   159     1              1  \n",
       "2               4     0    63     0              1  \n",
       "3               1     0  1174     0              0  \n",
       "4               2     0  1102     0              0  \n",
       "5               0     1   853     0              0  \n",
       "6              14     5    40     1              1  \n",
       "7               3     0   265     0              0  \n",
       "8               0     2   747     0              0  \n",
       "9               1     0   428     1              1  \n",
       "\n",
       "[10 rows x 53 columns]"
      ]
     },
     "execution_count": 42,
     "metadata": {},
     "output_type": "execute_result"
    }
   ],
   "source": [
    "df[:10]"
   ]
  },
  {
   "cell_type": "code",
   "execution_count": 76,
   "id": "7ca7cbc8",
   "metadata": {},
   "outputs": [],
   "source": [
    "df.columns\n",
    "df_select = df[[\"id\", \"name\", \"sex\", \"dob\", \"age\", \"race\", \"two_year_recid\", \"juv_fel_count\", \"juv_misd_count\", \"juv_other_count\", \"priors_count\", \"c_charge_degree\", \"is_recid\", \"is_violent_recid\", \"v_decile_score\", \"score_text\" ]]"
   ]
  },
  {
   "cell_type": "markdown",
   "id": "e52b9229",
   "metadata": {},
   "source": [
    "*Hvilke kolonner skal vi velge?*\n",
    "\n",
    "id, name, sex, dob, age, race, two_year_recid, , juv_fel_count, juv_misd_count, juv_other_count\n",
    "priors_count, c_charge_degree, is_recid, r_charge_degree, is_violent_recid, v_decile_score, \n",
    "\n",
    "Kanskje:\n",
    "compas_screening_date, days_b_screening_arrest, type_of_assessment \n",
    "\n",
    "### Kolonnenes betydning\n",
    "\n",
    "- **id:** ID-nummer.\n",
    "\n",
    "- **name:** kandidatens fulle navn.\n",
    "\n",
    "- **first:** fornavn.\n",
    "\n",
    "- **last:** etternavn.\n",
    "\n",
    "- **compas_screening_date:** dato for undersøkelse.\n",
    "\n",
    "- **sex:** kjønn.\n",
    "\n",
    "- **dob:** fødselsdato.\n",
    "\n",
    "- **age:** alder.\n",
    "\n",
    "- **age_cat:** alderkategori.\n",
    "\n",
    "- **v_decile_score:**\n",
    "\n",
    "- **v_score_text:**\n",
    "\n",
    "- **v_screening_date:**\n",
    "\n",
    "- **in_custody:** dato for ivaretektsfengsling\n",
    "\n",
    "- **out_custody:** dato for løslatelse\n",
    "\n",
    "- **priors_count.1:**\n",
    "\n",
    "- **start:**\n",
    "\n",
    "- **end:**\n",
    "\n",
    "- **event:**\n",
    "\n",
    "- **two_year_recid:** hvorvidt kandidaten begikk et nytt lovbrudd innen to år"
   ]
  },
  {
   "cell_type": "markdown",
   "id": "12d996f1",
   "metadata": {},
   "source": [
    "#### \n",
    "#### \n",
    "- Hvor ofte ulike grupperinger av mennesker (kvinner, menn, hvite og svarte) gjentar forbrytelser og blir predikert til å begå straffbare handlinger i framtiden (som andel, ikke totalt antall):"
   ]
  },
  {
   "cell_type": "code",
   "execution_count": 80,
   "id": "bb2058c8",
   "metadata": {},
   "outputs": [
    {
     "name": "stdout",
     "output_type": "stream",
     "text": [
      "0           1\n",
      "1           3\n",
      "2           4\n",
      "3           5\n",
      "4           6\n",
      "        ...  \n",
      "7207    10994\n",
      "7208    10995\n",
      "7209    10996\n",
      "7210    10997\n",
      "7211    10999\n",
      "Name: id, Length: 5819, dtype: int64 1395\n"
     ]
    },
    {
     "data": {
      "text/plain": [
       "<matplotlib.legend.Legend at 0x7f1a685a5460>"
      ]
     },
     "execution_count": 80,
     "metadata": {},
     "output_type": "execute_result"
    },
    {
     "data": {
      "image/png": "[encoded data removed]",
      "text/plain": [
       "<Figure size 432x288 with 1 Axes>"
      ]
     },
     "metadata": {
      "needs_background": "light"
     },
     "output_type": "display_data"
    }
   ],
   "source": [
    "df_male = df_select[df_select[\"sex\"] == \"Male\"]\n",
    "df_female = df_select[df_select[\"sex\"] == \"Female\"]\n",
    "df_white = df_select[df_select[\"race\"] == \"Caucasian\"]\n",
    "df_black = df_select[df_select[\"race\"] == \"African-American\"]\n",
    "# two_year_recid\n",
    "male_size = df_male[\"id\"]\n",
    "female_size = df_female.shape[0] \n",
    "print(male_size, female_size)\n",
    "\n",
    "#prosent av gruppen som begår en forbrytelse på nytt innen to år\n",
    "male_recid = df_male[df_male[\"two_year_recid\"]==1].size/df_male.size*100\n",
    "female_recid = df_female[df_female[\"two_year_recid\"]==1].size/df_female.size*100\n",
    "white_recid = df_white[df_white[\"two_year_recid\"]==1].size/df_white.size*100\n",
    "black_recid = df_black[df_black[\"two_year_recid\"]==1].size/df_black.size*100\n",
    "\"----\"\n",
    "#velger nivå high som at de predikeres til å begå forbrytelese\n",
    "male_pred = round(df_male[df_male[\"score_text\"] == \"High\"].size/df_male.size*100, 3)\n",
    "female_pred = round(df_female[df_female[\"score_text\"] == \"High\"].size/df_female.size*100, 3)\n",
    "white_pred = round(df_white[df_white[\"score_text\"] == \"High\"].size/df_white.size*100, 3)\n",
    "black_pred = round(df_black[df_black[\"score_text\"] == \"High\"].size/df_black.size*100, 3)\n",
    "\n",
    "\n",
    "labels = [\"Menn\", \"kvinner\", \"Hvite\", \"Svarte\"]\n",
    "x = np.arange(len(labels))\n",
    "# y = { \"Faktisk\" :[male_recid, female_recid, white_recid, black_recid], \"Predikert\":[male_pred, female_pred, white_pred, black_pred] }\n",
    "\n",
    "y1 =  [male_recid, female_recid, white_recid, black_recid]\n",
    "y2 = [male_pred, female_pred, white_pred, black_pred]\n",
    "width = 0.40\n",
    "\n",
    "plt.bar(x-0.2, y1, width)\n",
    "plt.bar(x+0.2, y2, width)\n",
    "plt.xticks(x, labels)\n",
    "plt.legend(['Faktisk', 'Predikert'])\n",
    "\n"
   ]
  },
  {
   "cell_type": "markdown",
   "id": "6cf4c968",
   "metadata": {},
   "source": [
    "#### \n",
    "#### \n",
    "- Hvor ofte ulike grupper fikk ulike risikoskårer:"
   ]
  },
  {
   "cell_type": "code",
   "execution_count": 45,
   "id": "282411ed",
   "metadata": {},
   "outputs": [
    {
     "data": {
      "text/plain": [
       "<matplotlib.legend.Legend at 0x7f1ac860ed00>"
      ]
     },
     "execution_count": 45,
     "metadata": {},
     "output_type": "execute_result"
    },
    {
     "data": {
      "image/png": "[encoded data removed]",
      "text/plain": [
       "<Figure size 432x288 with 1 Axes>"
      ]
     },
     "metadata": {
      "needs_background": "light"
     },
     "output_type": "display_data"
    }
   ],
   "source": [
    "low = {\"Low_male\" : df_male[df_male[\"score_text\"] == \"Low\"].size,\n",
    "       \"Low_female\" : df_female[df_female[\"score_text\"] == \"Low\"].size,\n",
    "       \"Low_white\" : df_white[df_white[\"score_text\"] == \"Low\"].size,\n",
    "       \"Low_black\" : df_black[df_black[\"score_text\"] == \"Low\"].size}\n",
    "\n",
    "medium = {\"Medium_male\" : df_male[df_male[\"score_text\"] == \"Medium\"].size,\n",
    "          \"Medium_female\" : df_female[df_female[\"score_text\"] == \"Medium\"].size,\n",
    "          \"Medium_white\" : df_white[df_white[\"score_text\"] == \"Medium\"].size,\n",
    "          \"Medium_black\" : df_black[df_black[\"score_text\"] == \"Medium\"].size}\n",
    "\n",
    "high = {\"High_male\" : df_male[df_male[\"score_text\"] == \"High\"].size,\n",
    "       \"High_female\" : df_female[df_female[\"score_text\"] == \"High\"].size,\n",
    "       \"High_white\" : df_white[df_white[\"score_text\"] == \"High\"].size,\n",
    "       \"High_black\" : df_black[df_black[\"score_text\"] == \"High\"].size}\n",
    "\n",
    "\n",
    "col_labs = [\"Low\", \"Medium\", \"High\", \"h\"]\n",
    "x_labs = [\"      Menn\", \"      Kvinner\", \"      Hvite\" ,\"        Svarte\"]\n",
    "x = np.arange(len(col_labs))\n",
    "width = 0.30\n",
    "\n",
    "plt.bar(x-0.15, low.values(), width)\n",
    "plt.bar(x+0.15, medium.values(), width)\n",
    "plt.bar(x+0.45, high.values(), width)\n",
    "\n",
    "plt.xticks(x, x_labs)\n",
    "plt.legend(col_labs)"
   ]
  },
  {
   "cell_type": "markdown",
   "id": "56112f72",
   "metadata": {},
   "source": [
    "#### \n",
    "#### \n",
    "- Hvor ofte de som begikk nye straffbare handlinger (og de som ikke gjorde det) fikk ulike risikoskårer:"
   ]
  },
  {
   "cell_type": "code",
   "execution_count": 46,
   "id": "d7a3be5f",
   "metadata": {},
   "outputs": [
    {
     "name": "stdout",
     "output_type": "stream",
     "text": [
      "52016 6432\n",
      "59136\n"
     ]
    },
    {
     "data": {
      "text/plain": [
       "<matplotlib.legend.Legend at 0x7f1a6ca58c70>"
      ]
     },
     "execution_count": 46,
     "metadata": {},
     "output_type": "execute_result"
    },
    {
     "data": {
      "image/png": "[encoded data removed]",
      "text/plain": [
       "<Figure size 432x288 with 1 Axes>"
      ]
     },
     "metadata": {
      "needs_background": "light"
     },
     "output_type": "display_data"
    }
   ],
   "source": [
    "# hvor ofte de som begikk nye straffbare hadlinger (og de som ikke gjorde det) fikk ulike risikoskårer, og hvordan \n",
    "# dette ser ut hvis du kun ser på hvite eller svarte.\n",
    "\n",
    "gold_pos = df_select[df_select[\"two_year_recid\"] == 1]\n",
    "gold_neg = df_select[df_select[\"two_year_recid\"] == 0]\n",
    "\n",
    "true_pos = gold_pos[gold_pos[\"score_text\"] == \"High\"]\n",
    "false_pos = gold_neg[gold_neg[\"score_text\"] == \"High\"]\n",
    "\n",
    "true_neg = gold_neg[gold_neg[\"score_text\"] == \"Low\"] + gold_neg[gold_neg[\"score_text\"] == \"Medium\"]\n",
    "false_neg = gold_pos[gold_pos[\"score_text\"] == \"Low\"] + gold_pos[gold_pos[\"score_text\"] == \"Medium\"]\n",
    "\n",
    "print(gold_pos.size, false_pos.size)\n",
    "print(df_black.size)\n",
    "col_labs = [\"true\", \"false\"]\n",
    "x_labs = [\"Recidivist\", \"Non-recidivist\"]\n",
    "x = np.arange(len(col_labs))\n",
    "width = 0.4\n",
    "\n",
    "plt.bar(x-0.20, [true_pos.size, true_neg.size], width)\n",
    "plt.bar(x+0.20, [false_pos.size, false_neg.size], width)\n",
    "\n",
    "plt.xticks(x, x_labs)\n",
    "plt.legend(col_labs)"
   ]
  },
  {
   "cell_type": "markdown",
   "id": "dcc905fa",
   "metadata": {},
   "source": [
    "#### \n",
    "#### \n",
    "- Hvordan de som begikk nye straffbare handlinger (og de som ikke gjorde det) fikk ulike risikoskårer - hvite versus svarte:"
   ]
  },
  {
   "cell_type": "code",
   "execution_count": 47,
   "id": "f802a839",
   "metadata": {},
   "outputs": [
    {
     "data": {
      "text/plain": [
       "<matplotlib.legend.Legend at 0x7f1a6c0e86d0>"
      ]
     },
     "execution_count": 47,
     "metadata": {},
     "output_type": "execute_result"
    },
    {
     "data": {
      "image/png": "[encoded data removed]",
      "text/plain": [
       "<Figure size 432x288 with 1 Axes>"
      ]
     },
     "metadata": {
      "needs_background": "light"
     },
     "output_type": "display_data"
    }
   ],
   "source": [
    "gold_pos_white = gold_pos[gold_pos[\"race\"] == \"Caucasian\"]\n",
    "gold_pos_black = gold_pos[gold_pos[\"race\"] == \"African-American\"]\n",
    "\n",
    "gold_neg_white = gold_neg[gold_neg[\"race\"] == \"Caucasian\"]\n",
    "gold_neg_black = gold_neg[gold_neg[\"race\"] == \"African-American\"]\n",
    "\n",
    "#true_pos_white = gold_pos_white[gold_pos_white[\"score_text\"] == \"High\"]\n",
    "#true_pos_black = gold_pos_black[gold_pos_black[\"score_text\"] == \"High\"]\n",
    "#true_neg_white = gold_neg_white[gold_neg_white[\"score_text\"] == \"Low\"] + gold_neg_white[gold_neg_white[\"score_text\"] == \"Medium\"]\n",
    "#true_neg_black = gold_neg_black[gold_neg_black[\"score_text\"] == \"Low\"] + gold_neg_black[gold_neg_black[\"score_text\"] == \"Medium\"]\n",
    "\n",
    "false_pos_white = gold_neg_white[gold_neg_white[\"score_text\"] == \"High\"]\n",
    "false_pos_black = gold_neg_black[gold_neg_black[\"score_text\"] == \"High\"]\n",
    "\n",
    "false_neg_white = gold_pos_white[gold_pos_white[\"score_text\"] == \"Low\"] + gold_pos_white[gold_pos_white[\"score_text\"] == \"Medium\"]\n",
    "false_neg_black = gold_pos_black[gold_pos_black[\"score_text\"] == \"Low\"] + gold_pos_black[gold_pos_black[\"score_text\"] == \"Medium\"]\n",
    "\n",
    "col_labs = [\"false positive\", \"false negative\"]\n",
    "x_labs = [\"White\", \"Black\"]\n",
    "x = np.arange(len(col_labs))\n",
    "width = 0.4\n",
    "\n",
    "plt.bar(x-0.2, [false_pos_white.size, false_neg_white.size], width)\n",
    "plt.bar(x+0.2, [false_pos_black.size, false_neg_black.size], width)\n",
    "\n",
    "plt.xticks(x, x_labs)\n",
    "plt.title(\"Feilprediksjoner for svarte og hvite (rådata)\")\n",
    "plt.legend(col_labs)"
   ]
  },
  {
   "cell_type": "code",
   "execution_count": 48,
   "id": "9eb8a7a8",
   "metadata": {},
   "outputs": [
    {
     "name": "stdout",
     "output_type": "stream",
     "text": [
      "3.3007334963325183\n",
      "31.41809290953545\n",
      "7.683982683982683\n",
      "31.38528138528138\n"
     ]
    },
    {
     "data": {
      "text/plain": [
       "<matplotlib.legend.Legend at 0x7f1a6c0c47f0>"
      ]
     },
     "execution_count": 48,
     "metadata": {},
     "output_type": "execute_result"
    },
    {
     "data": {
      "image/png": "[encoded data removed]",
      "text/plain": [
       "<Figure size 432x288 with 1 Axes>"
      ]
     },
     "metadata": {
      "needs_background": "light"
     },
     "output_type": "display_data"
    }
   ],
   "source": [
    "pos_white_ratio = false_pos_white.size / df_white.size * 100\n",
    "pos_black_ratio = false_pos_black.size / df_black.size * 100\n",
    "neg_white_ratio = false_neg_white.size / df_white.size * 100\n",
    "neg_black_ratio = false_neg_black.size / df_black.size * 100\n",
    "\n",
    "print(pos_white_ratio)\n",
    "print(neg_white_ratio)\n",
    "print(pos_black_ratio)\n",
    "print(neg_black_ratio)\n",
    "\n",
    "col_labs = [\"false positive\", \"false negative\"]\n",
    "x_labs = [\"White\", \"Black\"]\n",
    "x = np.arange(len(col_labs))\n",
    "width = 0.4\n",
    "\n",
    "plt.bar(x-0.2, [pos_white_ratio, pos_black_ratio], width)\n",
    "plt.bar(x+0.2, [neg_white_ratio, neg_black_ratio], width)\n",
    "\n",
    "plt.xticks(x, x_labs)\n",
    "plt.title(\"Feilprediksjoner for svarte og hvite (andel)\")\n",
    "plt.legend(col_labs)"
   ]
  },
  {
   "cell_type": "markdown",
   "id": "eece89aa",
   "metadata": {},
   "source": [
    "### 1 d)"
   ]
  },
  {
   "cell_type": "code",
   "execution_count": 72,
   "id": "f44a8897",
   "metadata": {},
   "outputs": [
    {
     "name": "stdout",
     "output_type": "stream",
     "text": [
      "382342\n"
     ]
    },
    {
     "ename": "TypeError",
     "evalue": "fit() missing 1 required positional argument: 'y'",
     "output_type": "error",
     "traceback": [
      "\u001b[0;31m---------------------------------------------------------------------------\u001b[0m",
      "\u001b[0;31mTypeError\u001b[0m                                 Traceback (most recent call last)",
      "\u001b[0;32m/tmp/ipykernel_607435/1933513546.py\u001b[0m in \u001b[0;36m<module>\u001b[0;34m\u001b[0m\n\u001b[1;32m     11\u001b[0m \u001b[0mXp_train\u001b[0m\u001b[0;34m,\u001b[0m \u001b[0mXp_test\u001b[0m\u001b[0;34m,\u001b[0m \u001b[0mY_train\u001b[0m\u001b[0;34m,\u001b[0m \u001b[0mY_test\u001b[0m \u001b[0;34m=\u001b[0m \u001b[0mtrain_test_split\u001b[0m\u001b[0;34m(\u001b[0m\u001b[0mX_pure\u001b[0m\u001b[0;34m,\u001b[0m \u001b[0mY\u001b[0m\u001b[0;34m,\u001b[0m \u001b[0mtest_size\u001b[0m \u001b[0;34m=\u001b[0m \u001b[0;36m0.2\u001b[0m\u001b[0;34m,\u001b[0m \u001b[0mrandom_state\u001b[0m \u001b[0;34m=\u001b[0m \u001b[0;36m0\u001b[0m\u001b[0;34m)\u001b[0m\u001b[0;34m\u001b[0m\u001b[0;34m\u001b[0m\u001b[0m\n\u001b[1;32m     12\u001b[0m \u001b[0mprint\u001b[0m\u001b[0;34m(\u001b[0m\u001b[0mdf\u001b[0m\u001b[0;34m.\u001b[0m\u001b[0msize\u001b[0m\u001b[0;34m)\u001b[0m\u001b[0;34m\u001b[0m\u001b[0;34m\u001b[0m\u001b[0m\n\u001b[0;32m---> 13\u001b[0;31m \u001b[0mlog_reg_pure\u001b[0m \u001b[0;34m=\u001b[0m \u001b[0mLogisticRegression\u001b[0m\u001b[0;34m.\u001b[0m\u001b[0mfit\u001b[0m\u001b[0;34m(\u001b[0m\u001b[0mXp_train\u001b[0m\u001b[0;34m,\u001b[0m \u001b[0mY_train\u001b[0m\u001b[0;34m)\u001b[0m\u001b[0;34m\u001b[0m\u001b[0;34m\u001b[0m\u001b[0m\n\u001b[0m\u001b[1;32m     14\u001b[0m \u001b[0;34m\u001b[0m\u001b[0m\n\u001b[1;32m     15\u001b[0m \u001b[0;31m#Compas\u001b[0m\u001b[0;34m\u001b[0m\u001b[0;34m\u001b[0m\u001b[0;34m\u001b[0m\u001b[0m\n",
      "\u001b[0;31mTypeError\u001b[0m: fit() missing 1 required positional argument: 'y'"
     ]
    }
   ],
   "source": [
    "#Model som predikerer uten COMPAS-data og model som predikerer utifra COMPAS\n",
    "\n",
    "X_compas = df_select.drop(['two_year_recid', \"is_violent_recid\", \"is_recid\"], axis=1)\n",
    "X_pure = X_compas.drop(columns = [\"score_text\", \"v_decile_score\"])\n",
    "Y = df_select[[\"two_year_recid\"]]\n",
    "#logistisk regresjonsmodell\n",
    "#display(X_pure)\n",
    "\n",
    "\n",
    "#Pure\n",
    "Xp_train, Xp_test, Y_train, Y_test = train_test_split(X_pure, Y, test_size = 0.2, random_state = 0)\n",
    "print(df.size)\n",
    "log_reg_pure = LogisticRegression.fit(Xp_train, Y_train)\n",
    "\n",
    "#Compas\n",
    "Xc_train, X_test, Y_train, Y_test = train_test_split(X_compas, Y, test_size = 0.2, random_state = 0)\n",
    "log_reg_compas = LogisticRegression.fit(Xc_train, Y_train)\n",
    "\n",
    "\n"
   ]
  },
  {
   "cell_type": "code",
   "execution_count": null,
   "id": "077455b0",
   "metadata": {},
   "outputs": [],
   "source": [
    "# plotter \"partial dependence\"\n",
    "features = [\"priors_count\" '''flere parametre her''']\n",
    "\n",
    "PartialDependenceDisplay.from_estimator('''klassifikator her''', df_select, features)\n",
    "\n",
    "plt.gcf().set_size_inches(15, 10)\n",
    "plt.show()"
   ]
  }
 ],
 "metadata": {
  "kernelspec": {
   "display_name": "Python 3 (ipykernel)",
   "language": "python",
   "name": "python3"
  },
  "language_info": {
   "codemirror_mode": {
    "name": "ipython",
    "version": 3
   },
   "file_extension": ".py",
   "mimetype": "text/x-python",
   "name": "python",
   "nbconvert_exporter": "python",
   "pygments_lexer": "ipython3",
   "version": "3.8.10"
  }
 },
 "nbformat": 4,
 "nbformat_minor": 5
}
