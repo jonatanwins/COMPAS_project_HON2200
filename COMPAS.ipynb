{
 "cells": [
  {
   "cell_type": "code",
   "execution_count": 17,
   "id": "370b37c5",
   "metadata": {},
   "outputs": [],
   "source": [
    "import pandas as pd\n",
    "import numpy as np\n",
    "import matplotlib.pyplot as plt\n",
    "from sklearn.inspection import PartialDependenceDisplay\n",
    "from sklearn.linear_model import LogisticRegression\n",
    "from sklearn.model_selection import train_test_split"
   ]
  },
  {
   "cell_type": "markdown",
   "id": "69c5ce01",
   "metadata": {},
   "source": [
    "### 1a) les inn og forstå dataene"
   ]
  },
  {
   "cell_type": "code",
   "execution_count": 18,
   "id": "f68c7fdd",
   "metadata": {},
   "outputs": [],
   "source": [
    "url = \"https://raw.githubusercontent.com/propublica/compas-analysis/master/compas-scores-two-years.csv\"\n",
    "\n",
    "df = pd.read_csv(url)"
   ]
  },
  {
   "cell_type": "code",
   "execution_count": null,
   "id": "7f11b3c7",
   "metadata": {},
   "outputs": [],
   "source": []
  },
  {
   "cell_type": "code",
   "execution_count": 19,
   "id": "7ca7cbc8",
   "metadata": {},
   "outputs": [],
   "source": [
    "#df.columns\n",
    "df_select = df[[\"id\", \"name\", \"sex\", \"age_cat\", \"race\", \"two_year_recid\", \"juv_fel_count\", \"juv_misd_count\", \"juv_other_count\", \"priors_count\", \"is_recid\", \"is_violent_recid\", \"v_decile_score\", \"score_text\" ]]"
   ]
  },
  {
   "cell_type": "markdown",
   "id": "e52b9229",
   "metadata": {},
   "source": [
    "*Hvilke kolonner skal vi velge?*\n",
    "\n",
    "id, name, sex, dob, age, race, two_year_recid, , juv_fel_count, juv_misd_count, juv_other_count\n",
    "priors_count, c_charge_degree, is_recid, r_charge_degree, is_violent_recid, v_decile_score, \n",
    "\n",
    "Kanskje:\n",
    "compas_screening_date, days_b_screening_arrest, type_of_assessment \n",
    "\n",
    "### Kolonnenes betydning\n",
    "\n",
    "- **id:** ID-nummer.\n",
    "\n",
    "- **name:** kandidatens fulle navn.\n",
    "\n",
    "- **first:** fornavn.\n",
    "\n",
    "- **last:** etternavn.\n",
    "\n",
    "- **compas_screening_date:** dato for undersøkelse.\n",
    "\n",
    "- **sex:** kjønn.\n",
    "\n",
    "- **dob:** fødselsdato.\n",
    "\n",
    "- **age:** alder.\n",
    "\n",
    "- **age_cat:** alderkategori.\n",
    "\n",
    "- **v_decile_score:**\n",
    "\n",
    "- **v_score_text:**\n",
    "\n",
    "- **v_screening_date:**\n",
    "\n",
    "- **in_custody:** dato for ivaretektsfengsling\n",
    "\n",
    "- **out_custody:** dato for løslatelse\n",
    "\n",
    "- **priors_count.1:**\n",
    "\n",
    "- **start:**\n",
    "\n",
    "- **end:**\n",
    "\n",
    "- **event:**\n",
    "\n",
    "- **two_year_recid:** hvorvidt kandidaten begikk et nytt lovbrudd innen to år"
   ]
  },
  {
   "cell_type": "markdown",
   "id": "12d996f1",
   "metadata": {},
   "source": [
    "#### \n",
    "#### \n",
    "- Hvor ofte ulike grupperinger av mennesker (kvinner, menn, hvite og svarte) gjentar forbrytelser og blir predikert til å begå straffbare handlinger i framtiden (som andel, ikke totalt antall):"
   ]
  },
  {
   "cell_type": "code",
   "execution_count": 20,
   "id": "bb2058c8",
   "metadata": {},
   "outputs": [
    {
     "data": {
      "text/plain": [
       "<matplotlib.legend.Legend at 0x18c0622cf70>"
      ]
     },
     "execution_count": 20,
     "metadata": {},
     "output_type": "execute_result"
    },
    {
     "data": {
      "image/png": "[encoded data removed]",
      "text/plain": [
       "<Figure size 432x288 with 1 Axes>"
      ]
     },
     "metadata": {
      "needs_background": "light"
     },
     "output_type": "display_data"
    }
   ],
   "source": [
    "df_male = df_select[df_select[\"sex\"] == \"Male\"]\n",
    "df_female = df_select[df_select[\"sex\"] == \"Female\"]\n",
    "df_white = df_select[df_select[\"race\"] == \"Caucasian\"]\n",
    "df_black = df_select[df_select[\"race\"] == \"African-American\"]\n",
    "# two_year_recid\n",
    "\n",
    "\n",
    "#prosent av gruppen som begår en forbrytelse på nytt innen to år\n",
    "male_recid = len(df_male[df_male[\"two_year_recid\"]==1].index) / len(df_male.index)*100\n",
    "female_recid = len(df_female[df_female[\"two_year_recid\"]==1].index) / len(df_female.index)*100\n",
    "white_recid = len(df_white[df_white[\"two_year_recid\"]==1].index) / len(df_white.index)*100\n",
    "black_recid = len(df_black[df_black[\"two_year_recid\"]==1].index) / len(df_black.index)*100\n",
    "\"----\"\n",
    "#velger nivå high som at de predikeres til å begå forbrytelese\n",
    "male_pred = len(df_male[df_male[\"score_text\"] == \"High\"].index) / len(df_male.index)*100\n",
    "female_pred = len(df_female[df_female[\"score_text\"] == \"High\"].index) / len(df_female.index)*100\n",
    "white_pred = len(df_white[df_white[\"score_text\"] == \"High\"].index) / len(df_white.index)*100\n",
    "black_pred = len(df_black[df_black[\"score_text\"] == \"High\"].index) / len(df_black.index)*100\n",
    "\n",
    "\n",
    "labels = [\"Menn\", \"kvinner\", \"Hvite\", \"Svarte\"]\n",
    "x = np.arange(len(labels))\n",
    "# y = { \"Faktisk\" :[male_recid, female_recid, white_recid, black_recid], \"Predikert\":[male_pred, female_pred, white_pred, black_pred] }\n",
    "\n",
    "y1 =  [male_recid, female_recid, white_recid, black_recid]\n",
    "y2 = [male_pred, female_pred, white_pred, black_pred]\n",
    "width = 0.40\n",
    "\n",
    "plt.bar(x-0.2, y1, width)\n",
    "plt.bar(x+0.2, y2, width)\n",
    "plt.xticks(x, labels)\n",
    "plt.legend(['Faktisk', 'Predikert'])"
   ]
  },
  {
   "cell_type": "markdown",
   "id": "6cf4c968",
   "metadata": {},
   "source": [
    "#### \n",
    "#### \n",
    "- Hvor ofte ulike grupper fikk ulike risikoskårer:"
   ]
  },
  {
   "cell_type": "code",
   "execution_count": 21,
   "id": "282411ed",
   "metadata": {},
   "outputs": [
    {
     "data": {
      "text/plain": [
       "<matplotlib.legend.Legend at 0x18c07735d60>"
      ]
     },
     "execution_count": 21,
     "metadata": {},
     "output_type": "execute_result"
    },
    {
     "data": {
      "image/png": "[encoded data removed]",
      "text/plain": [
       "<Figure size 432x288 with 1 Axes>"
      ]
     },
     "metadata": {
      "needs_background": "light"
     },
     "output_type": "display_data"
    }
   ],
   "source": [
    "low = [len(df_male[df_male[\"score_text\"] == \"Low\"].index),\n",
    "       len(df_female[df_female[\"score_text\"] == \"Low\"].index),\n",
    "       len(df_white[df_white[\"score_text\"] == \"Low\"].index),\n",
    "       len(df_black[df_black[\"score_text\"] == \"Low\"].index)]\n",
    "\n",
    "medium = [len(df_male[df_male[\"score_text\"] == \"Medium\"].index),\n",
    "          len(df_female[df_female[\"score_text\"] == \"Medium\"].index),\n",
    "          len(df_white[df_white[\"score_text\"] == \"Medium\"].index),\n",
    "          len(df_black[df_black[\"score_text\"] == \"Medium\"].index)]\n",
    "\n",
    "high = [len(df_male[df_male[\"score_text\"] == \"High\"].index),\n",
    "       len(df_female[df_female[\"score_text\"] == \"High\"].index),\n",
    "       len(df_white[df_white[\"score_text\"] == \"High\"].index),\n",
    "       len(df_black[df_black[\"score_text\"] == \"High\"].index)]\n",
    "\n",
    "\n",
    "col_labs = [\"Low\", \"Medium\", \"High\", \"h\"]\n",
    "x_labs = [\"      Menn\", \"      Kvinner\", \"      Hvite\" ,\"        Svarte\"]\n",
    "x = np.arange(len(col_labs))\n",
    "width = 0.30\n",
    "\n",
    "plt.bar(x-0.15, low, width)\n",
    "plt.bar(x+0.15, medium, width)\n",
    "plt.bar(x+0.45, high, width)\n",
    "\n",
    "plt.xticks(x, x_labs)\n",
    "plt.legend(col_labs)"
   ]
  },
  {
   "cell_type": "markdown",
   "id": "56112f72",
   "metadata": {},
   "source": [
    "#### \n",
    "#### \n",
    "- Hvor ofte de som begikk nye straffbare handlinger (og de som ikke gjorde det) fikk ulike risikoskårer:"
   ]
  },
  {
   "cell_type": "code",
   "execution_count": 22,
   "id": "d7a3be5f",
   "metadata": {},
   "outputs": [
    {
     "data": {
      "text/plain": [
       "<matplotlib.legend.Legend at 0x18c065ec0a0>"
      ]
     },
     "execution_count": 22,
     "metadata": {},
     "output_type": "execute_result"
    },
    {
     "data": {
      "image/png": "[encoded data removed]",
      "text/plain": [
       "<Figure size 432x288 with 1 Axes>"
      ]
     },
     "metadata": {
      "needs_background": "light"
     },
     "output_type": "display_data"
    }
   ],
   "source": [
    "# hvor ofte de som begikk nye straffbare hadlinger (og de som ikke gjorde det) fikk ulike risikoskårer, og hvordan \n",
    "# dette ser ut hvis du kun ser på hvite eller svarte.\n",
    "\n",
    "gold_pos = df_select[df_select[\"two_year_recid\"] == 1]\n",
    "gold_neg = df_select[df_select[\"two_year_recid\"] == 0]\n",
    "\n",
    "true_pos = gold_pos[gold_pos[\"score_text\"] == \"High\"]\n",
    "false_pos = gold_neg[gold_neg[\"score_text\"] == \"High\"]\n",
    "\n",
    "true_neg = gold_neg[gold_neg[\"score_text\"] == \"Low\"] + gold_neg[gold_neg[\"score_text\"] == \"Medium\"]\n",
    "false_neg = gold_pos[gold_pos[\"score_text\"] == \"Low\"] + gold_pos[gold_pos[\"score_text\"] == \"Medium\"]\n",
    "\n",
    "col_labs = [\"true\", \"false\"]\n",
    "x_labs = [\"Recidivist\", \"Non-recidivist\"]\n",
    "x = np.arange(len(col_labs))\n",
    "width = 0.4\n",
    "\n",
    "plt.bar(x-0.20, [len(true_pos.index), len(true_neg.index)], width)\n",
    "plt.bar(x+0.20, [len(false_pos.index), len(false_neg.index)], width)\n",
    "\n",
    "plt.xticks(x, x_labs)\n",
    "plt.legend(col_labs)"
   ]
  },
  {
   "cell_type": "markdown",
   "id": "dcc905fa",
   "metadata": {},
   "source": [
    "#### \n",
    "#### \n",
    "- Hvordan de som begikk nye straffbare handlinger (og de som ikke gjorde det) fikk ulike risikoskårer - hvite versus svarte:"
   ]
  },
  {
   "cell_type": "code",
   "execution_count": 23,
   "id": "f802a839",
   "metadata": {},
   "outputs": [
    {
     "data": {
      "text/plain": [
       "<matplotlib.legend.Legend at 0x18c058ac8e0>"
      ]
     },
     "execution_count": 23,
     "metadata": {},
     "output_type": "execute_result"
    },
    {
     "data": {
      "image/png": "[encoded data removed]",
      "text/plain": [
       "<Figure size 432x288 with 1 Axes>"
      ]
     },
     "metadata": {
      "needs_background": "light"
     },
     "output_type": "display_data"
    }
   ],
   "source": [
    "gold_pos_white = gold_pos[gold_pos[\"race\"] == \"Caucasian\"]\n",
    "gold_pos_black = gold_pos[gold_pos[\"race\"] == \"African-American\"]\n",
    "gold_neg_white = gold_neg[gold_neg[\"race\"] == \"Caucasian\"]\n",
    "gold_neg_black = gold_neg[gold_neg[\"race\"] == \"African-American\"]\n",
    "\n",
    "false_pos_white = gold_neg_white[gold_neg_white[\"score_text\"] == \"High\"]\n",
    "false_pos_black = gold_neg_black[gold_neg_black[\"score_text\"] == \"High\"]\n",
    "\n",
    "false_neg_white = gold_pos_white[gold_pos_white[\"score_text\"] == \"Low\"] + gold_pos_white[gold_pos_white[\"score_text\"] == \"Medium\"]\n",
    "false_neg_black = gold_pos_black[gold_pos_black[\"score_text\"] == \"Low\"] + gold_pos_black[gold_pos_black[\"score_text\"] == \"Medium\"]\n",
    "\n",
    "col_labs = [\"false positive\", \"false negative\"]\n",
    "x_labs = [\"White\", \"Black\"]\n",
    "x = np.arange(len(col_labs))\n",
    "width = 0.4\n",
    "\n",
    "plt.bar(x-0.2, [len(false_pos_white.index), len(false_neg_white.index)], width)\n",
    "plt.bar(x+0.2, [len(false_pos_black.index), len(false_neg_black.index)], width)\n",
    "\n",
    "plt.xticks(x, x_labs)\n",
    "plt.title(\"Feilprediksjoner for svarte og hvite (rådata)\")\n",
    "plt.legend(col_labs)"
   ]
  },
  {
   "cell_type": "code",
   "execution_count": 24,
   "id": "9eb8a7a8",
   "metadata": {},
   "outputs": [
    {
     "name": "stdout",
     "output_type": "stream",
     "text": [
      "3.3007334963325183\n",
      "31.41809290953545\n",
      "7.683982683982683\n",
      "31.38528138528138\n"
     ]
    },
    {
     "data": {
      "text/plain": [
       "<matplotlib.legend.Legend at 0x18c07705a90>"
      ]
     },
     "execution_count": 24,
     "metadata": {},
     "output_type": "execute_result"
    },
    {
     "data": {
      "image/png": "[encoded data removed]",
      "text/plain": [
       "<Figure size 432x288 with 1 Axes>"
      ]
     },
     "metadata": {
      "needs_background": "light"
     },
     "output_type": "display_data"
    }
   ],
   "source": [
    "pos_white_ratio = len(false_pos_white.index) / len(df_white.index) * 100\n",
    "pos_black_ratio = len(false_pos_black.index) / len(df_black.index) * 100\n",
    "neg_white_ratio = len(false_neg_white.index) / len(df_white.index) * 100\n",
    "neg_black_ratio = len(false_neg_black.index) / len(df_black.index) * 100\n",
    "\n",
    "print(pos_white_ratio)\n",
    "print(neg_white_ratio)\n",
    "print(pos_black_ratio)\n",
    "print(neg_black_ratio)\n",
    "\n",
    "col_labs = [\"false positive\", \"false negative\"]\n",
    "x_labs = [\"White\", \"Black\"]\n",
    "x = np.arange(len(col_labs))\n",
    "width = 0.4\n",
    "\n",
    "plt.bar(x-0.2, [pos_white_ratio, pos_black_ratio], width)\n",
    "plt.bar(x+0.2, [neg_white_ratio, neg_black_ratio], width)\n",
    "\n",
    "plt.xticks(x, x_labs)\n",
    "plt.title(\"Feilprediksjoner for svarte og hvite (andel)\")\n",
    "plt.legend(col_labs)"
   ]
  },
  {
   "cell_type": "markdown",
   "id": "eece89aa",
   "metadata": {},
   "source": [
    "### 1 d)"
   ]
  },
  {
   "cell_type": "code",
   "execution_count": 31,
   "id": "a12d900e",
   "metadata": {},
   "outputs": [
    {
     "name": "stdout",
     "output_type": "stream",
     "text": [
      "[ 0  1  6 12  2  4  3  8  5 13]\n",
      "[ 0  1  2  3  4 17  9  5  6  7]\n"
     ]
    }
   ],
   "source": [
    "# sex', 'age_cat', 'race', 'juv_fel_count', 'juv_misd_count', 'juv_other_count', 'priors_count'\n",
    "#print(df_select.sex.unique())\n",
    "#print(df_select.age_cat.unique())\n",
    "#print(df_select.race.unique())\n",
    "\n",
    "\n",
    "print(df_select.juv_misd_count.unique())\n",
    "print(df_select.juv_other_count.unique())"
   ]
  },
  {
   "cell_type": "code",
   "execution_count": null,
   "id": "a8e759d4",
   "metadata": {},
   "outputs": [],
   "source": []
  },
  {
   "cell_type": "code",
   "execution_count": 59,
   "id": "79c15fe1",
   "metadata": {},
   "outputs": [],
   "source": [
    "\n",
    "X_compas = df_select.drop(columns = ['id','name','two_year_recid', \"is_violent_recid\", \"is_recid\"])\n",
    "X_pure = X_compas.drop(columns = [\"score_text\", \"v_decile_score\"])\n",
    "\n",
    "categorical_cols_X_compas = ['sex', 'age_cat', 'race', \"score_text\"] # skal konverteres til kategoriske vha one-hot encoding\n",
    "numerical_cols_X_compas = [el for el in X_compas.columns if el not in categorical_cols_X_compas] #skal konverteres til arrays av int\n",
    "\n",
    "#Konverterer verdier til kategoriske vha one-hot-encoding\n",
    "X_compas = pd.get_dummies(X_compas, columns=categorical_cols_X_compas, prefix=categorical_cols_X_compas, prefix_sep='_')\n",
    "\n",
    "categorical_cols_X_pure = ['sex', 'age_cat', 'race']\n",
    "numerical_cols_X_pure = [el for el in X_pure.columns if el not in categorical_cols_X_pure] #lager en liste av alle som ikke skal være kategoriske\n",
    "\n",
    "#Konverterer verdier til kategoriske vha one-hot-encoding\n",
    "X_pure = pd.get_dummies(X_pure, columns=categorical_cols_X_pure, prefix=categorical_cols_X_pure, prefix_sep='_')\n",
    "\n",
    "\n",
    "#Det som skal predikeres\n",
    "Y = df_select[[\"two_year_recid\"]]\n",
    "\n",
    "#konverterer numeriske verdier til numpy-array av int\n",
    "for col in numerical_cols_X_compas:\n",
    "    X_compas[col] = X_compas[[col]].to_numpy()\n",
    "\n",
    "for col in numerical_cols_X_pure:\n",
    "    X_pure[col] = X_pure[[col]].to_numpy()\n",
    "\n",
    "    "
   ]
  },
  {
   "cell_type": "code",
   "execution_count": 63,
   "id": "f44a8897",
   "metadata": {},
   "outputs": [
    {
     "name": "stdout",
     "output_type": "stream",
     "text": [
      "      two_year_recid\n",
      "0                  0\n",
      "1                  1\n",
      "2                  1\n",
      "3                  0\n",
      "4                  0\n",
      "...              ...\n",
      "7209               0\n",
      "7210               0\n",
      "7211               0\n",
      "7212               0\n",
      "7213               1\n",
      "\n",
      "[7214 rows x 1 columns]\n",
      "[0 1 1 ... 0 0 1]\n"
     ]
    },
    {
     "name": "stderr",
     "output_type": "stream",
     "text": [
      "C:\\Users\\fartein\\Documents\\Skole\\HON2200\\Anaconda\\lib\\site-packages\\sklearn\\linear_model\\_logistic.py:763: ConvergenceWarning: lbfgs failed to converge (status=1):\n",
      "STOP: TOTAL NO. of ITERATIONS REACHED LIMIT.\n",
      "\n",
      "Increase the number of iterations (max_iter) or scale the data as shown in:\n",
      "    https://scikit-learn.org/stable/modules/preprocessing.html\n",
      "Please also refer to the documentation for alternative solver options:\n",
      "    https://scikit-learn.org/stable/modules/linear_model.html#logistic-regression\n",
      "  n_iter_i = _check_optimize_result(\n",
      "C:\\Users\\fartein\\Documents\\Skole\\HON2200\\Anaconda\\lib\\site-packages\\sklearn\\linear_model\\_logistic.py:763: ConvergenceWarning: lbfgs failed to converge (status=1):\n",
      "STOP: TOTAL NO. of ITERATIONS REACHED LIMIT.\n",
      "\n",
      "Increase the number of iterations (max_iter) or scale the data as shown in:\n",
      "    https://scikit-learn.org/stable/modules/preprocessing.html\n",
      "Please also refer to the documentation for alternative solver options:\n",
      "    https://scikit-learn.org/stable/modules/linear_model.html#logistic-regression\n",
      "  n_iter_i = _check_optimize_result(\n"
     ]
    },
    {
     "data": {
      "text/plain": [
       "LogisticRegression()"
      ]
     },
     "execution_count": 63,
     "metadata": {},
     "output_type": "execute_result"
    }
   ],
   "source": [
    "#Model som predikerer uten COMPAS-data og model som predikerer utifra COMPAS\n",
    "\n",
    "#logistisk regresjonsmodell\n",
    "\n",
    "print(Y)\n",
    "Y = np.ravel(Y)\n",
    "print(Y)\n",
    "\n",
    "#Pure\n",
    "Xp_train, Xp_test, Y_train, Y_test = train_test_split(X_pure, Y, test_size = 0.2, random_state = 0)\n",
    "log_reg_pure = LogisticRegression()\n",
    "\n",
    "log_reg_pure.fit(Xp_train, Y_train)\n",
    "\n",
    "#Compas\n",
    "Xc_train, X_test, Y_train, Y_test = train_test_split(X_compas, Y, test_size = 0.2, random_state = 0)\n",
    "log_reg_compas = LogisticRegression()\n",
    "\n",
    "log_reg_compas.fit(Xc_train, Y_train)\n",
    "\n",
    "\n",
    "\n"
   ]
  },
  {
   "cell_type": "code",
   "execution_count": null,
   "id": "077455b0",
   "metadata": {},
   "outputs": [],
   "source": [
    "# plotter \"partial dependence\"\n",
    "features = [\"priors_count\" '''flere parametre her''']\n",
    "\n",
    "PartialDependenceDisplay.from_estimator('''klassifikator her''', df_select, features)\n",
    "\n",
    "plt.gcf().set_size_inches(15, 10)\n",
    "plt.show()"
   ]
  }
 ],
 "metadata": {
  "kernelspec": {
   "display_name": "Python 3 (ipykernel)",
   "language": "python",
   "name": "python3"
  },
  "language_info": {
   "codemirror_mode": {
    "name": "ipython",
    "version": 3
   },
   "file_extension": ".py",
   "mimetype": "text/x-python",
   "name": "python",
   "nbconvert_exporter": "python",
   "pygments_lexer": "ipython3",
   "version": "3.9.7"
  }
 },
 "nbformat": 4,
 "nbformat_minor": 5
}
