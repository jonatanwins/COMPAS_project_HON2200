{
 "cells": [
  {
   "cell_type": "code",
   "execution_count": 481,
   "id": "370b37c5",
   "metadata": {},
   "outputs": [],
   "source": [
    "import pandas as pd\n",
    "import numpy as np\n",
    "import matplotlib.pyplot as plt\n",
    "from sklearn.inspection import partial_dependence\n",
    "from sklearn.inspection import PartialDependenceDisplay\n",
    "from sklearn.linear_model import LogisticRegression\n",
    "from sklearn.model_selection import train_test_split\n",
    "from sklearn.metrics import confusion_matrix\n",
    "from sklearn.metrics import accuracy_score\n",
    "import matplotlib.axes as ax\n",
    "\n",
    "import warnings\n",
    "warnings.simplefilter(action='ignore', category=FutureWarning)"
   ]
  },
  {
   "cell_type": "markdown",
   "id": "69c5ce01",
   "metadata": {},
   "source": [
    "### 1a) les inn og forstå dataene"
   ]
  },
  {
   "cell_type": "code",
   "execution_count": 482,
   "id": "f68c7fdd",
   "metadata": {},
   "outputs": [],
   "source": [
    "url = \"https://raw.githubusercontent.com/propublica/compas-analysis/master/compas-scores-two-years.csv\"\n",
    "\n",
    "df = pd.read_csv(url)\n",
    "\n",
    "df = df[df[\"days_b_screening_arrest\"] <= 30]\n",
    "df = df[df[\"days_b_screening_arrest\"] >= -30]"
   ]
  },
  {
   "cell_type": "code",
   "execution_count": 483,
   "id": "7ca7cbc8",
   "metadata": {},
   "outputs": [
    {
     "name": "stdout",
     "output_type": "stream",
     "text": [
      "549\n",
      "1175\n",
      "0.4672340425531915\n",
      "0.4102127659574468\n"
     ]
    }
   ],
   "source": [
    "df_select = df[[\"id\", \"name\", \"sex\", \"age_cat\", \"race\", \"two_year_recid\", \"juv_fel_count\", \"juv_misd_count\", \"juv_other_count\", \"priors_count\", \"is_recid\", \"is_violent_recid\", \"v_decile_score\", \"score_text\", \"days_b_screening_arrest\"]]\n",
    "\n",
    "# fjerner alle som ikke ble vurdert innen 30 dager forut/i \n",
    "\n",
    "svarte_kvinner = df_select[(df_select[\"race\"] == \"African-American\") & (df_select[\"sex\"] == \"Female\")]\n",
    "hvite_kvinner = df_select[(df_select[\"race\"] == \"Caucasian\") & (df_select[\"sex\"] == \"Female\")]\n",
    "kvinner = df_select[df_select[\"sex\"] == \"Female\"]\n",
    "\n",
    "andel_svarte_kvinner = (len(svarte_kvinner.index))/(len(kvinner.index))\n",
    "andel_hvite_kvinner = (len(hvite_kvinner.index))/(len(kvinner.index))\n",
    "\n",
    "print(len(svarte_kvinner.index))\n",
    "print(len(kvinner.index))\n",
    "print(andel_svarte_kvinner)\n",
    "print(andel_hvite_kvinner)\n"
   ]
  },
  {
   "cell_type": "markdown",
   "id": "e52b9229",
   "metadata": {},
   "source": [
    "### Kolonnenes betydning\n",
    "\n",
    "- **id** kandidatens id.\n",
    "\n",
    "- **name** kandidatens navn.\n",
    "\n",
    "- **sex** kandidatens kjønn.\n",
    "\n",
    "- **age_cat** alderskategori; mindre enn 25, mellom 25 og 45, over 45.\n",
    "\n",
    "- **race** etnisitet.\n",
    "\n",
    "- **two_year_recid** hvorvidt kandidaten begikk et nytt lovbrudd innen to år etter løslatelse.\n",
    "\n",
    "- **juv_fel_count** antall ungdomsforbrytelser.\n",
    "\n",
    "- **juv_misd_count** antall ungdomsforseelser.\n",
    "\n",
    "- **priors_count** antall tidligere forbrytelser.\n",
    "\n",
    "- **c_charge_degree**\n",
    "\n"
   ]
  },
  {
   "cell_type": "markdown",
   "id": "12d996f1",
   "metadata": {},
   "source": [
    "- Hvor ofte ulike grupperinger av mennesker (kvinner, menn, hvite og svarte) gjentar forbrytelser og blir predikert til å begå straffbare handlinger i framtiden (som andel, ikke totalt antall):"
   ]
  },
  {
   "cell_type": "code",
   "execution_count": 484,
   "id": "bb2058c8",
   "metadata": {},
   "outputs": [
    {
     "data": {
      "image/png": "[encoded data removed]",
      "text/plain": [
       "<Figure size 432x288 with 1 Axes>"
      ]
     },
     "metadata": {
      "needs_background": "light"
     },
     "output_type": "display_data"
    }
   ],
   "source": [
    "# Velger ut undergrupper for menn, kvinner, hvite og svarte\n",
    "df_male = df_select[df_select[\"sex\"] == \"Male\"]\n",
    "df_female = df_select[df_select[\"sex\"] == \"Female\"]\n",
    "df_white = df_select[df_select[\"race\"] == \"Caucasian\"]\n",
    "df_black = df_select[df_select[\"race\"] == \"African-American\"]\n",
    "\n",
    "\n",
    "# prosent av gruppen som begår en forbrytelse på nytt innen to år\n",
    "male_recid = len(df_male[df_male[\"two_year_recid\"]==1].index) / len(df_male.index)*100\n",
    "female_recid = len(df_female[df_female[\"two_year_recid\"]==1].index) / len(df_female.index)*100\n",
    "white_recid = len(df_white[df_white[\"two_year_recid\"]==1].index) / len(df_white.index)*100\n",
    "black_recid = len(df_black[df_black[\"two_year_recid\"]==1].index) / len(df_black.index)*100\n",
    "\n",
    "\n",
    "# velger nivå high som at de predikeres til å begå forbrytelese\n",
    "male_pred = len(df_male[df_male[\"score_text\"] == \"High\"].index) / len(df_male.index)*100\n",
    "female_pred = len(df_female[df_female[\"score_text\"] == \"High\"].index) / len(df_female.index)*100\n",
    "white_pred = len(df_white[df_white[\"score_text\"] == \"High\"].index) / len(df_white.index)*100\n",
    "black_pred = len(df_black[df_black[\"score_text\"] == \"High\"].index) / len(df_black.index)*100\n",
    "\n",
    "\n",
    "labels = [\"Menn\", \"Kvinner\", \"Hvite\", \"Svarte\"]\n",
    "x = np.arange(len(labels))\n",
    "\n",
    "y1 = [male_recid, female_recid, white_recid, black_recid]\n",
    "y2 = [male_pred, female_pred, white_pred, black_pred]\n",
    "width = 0.40\n",
    "\n",
    "plt.bar(x-0.2, y1, width)\n",
    "plt.bar(x+0.2, y2, width)\n",
    "plt.xticks(x, labels)\n",
    "plt.ylim((0,60))\n",
    "plt.legend(['Faktisk', 'Predikert'], loc = 9)\n",
    "plt.title(\"\\nAndel av kandidatene som predikeres til å gjenta forbrytelser \\ni framtiden, versus andel av kandidatene som faktisk gjorde det.\\n\", loc = \"left\")\n",
    "\n",
    "for i, val in enumerate(y1):\n",
    "    plt.text(i - 0.35, val + 1, str(round(val, 1)), color = \"C0\", fontweight = \"bold\")\n",
    "for i, val in enumerate(y2):\n",
    "    plt.text(i + 0.05, val + 1, str(round(val, 1)), color = \"C1\", fontweight = \"bold\")\n",
    "\n",
    "plt.show() "
   ]
  },
  {
   "cell_type": "markdown",
   "id": "6cf4c968",
   "metadata": {},
   "source": [
    "- Hvor ofte ulike grupper fikk ulike risikoskårer:"
   ]
  },
  {
   "cell_type": "code",
   "execution_count": 485,
   "id": "282411ed",
   "metadata": {},
   "outputs": [
    {
     "data": {
      "image/png": "[encoded data removed]",
      "text/plain": [
       "<Figure size 432x288 with 1 Axes>"
      ]
     },
     "metadata": {
      "needs_background": "light"
     },
     "output_type": "display_data"
    }
   ],
   "source": [
    "low = [len(df_male[df_male[\"score_text\"] == \"Low\"].index),\n",
    "       len(df_female[df_female[\"score_text\"] == \"Low\"].index),\n",
    "       len(df_white[df_white[\"score_text\"] == \"Low\"].index),\n",
    "       len(df_black[df_black[\"score_text\"] == \"Low\"].index)]\n",
    "\n",
    "medium = [len(df_male[df_male[\"score_text\"] == \"Medium\"].index),\n",
    "          len(df_female[df_female[\"score_text\"] == \"Medium\"].index),\n",
    "          len(df_white[df_white[\"score_text\"] == \"Medium\"].index),\n",
    "          len(df_black[df_black[\"score_text\"] == \"Medium\"].index)]\n",
    "\n",
    "high = [len(df_male[df_male[\"score_text\"] == \"High\"].index),\n",
    "       len(df_female[df_female[\"score_text\"] == \"High\"].index),\n",
    "       len(df_white[df_white[\"score_text\"] == \"High\"].index),\n",
    "       len(df_black[df_black[\"score_text\"] == \"High\"].index)]\n",
    "\n",
    "\n",
    "col_labs = [\"Low\", \"Medium\", \"High\", \"h\"]\n",
    "x_labs = [\"Menn\", \"Kvinner\", \"Hvite\" ,\"Svarte\"]\n",
    "x = np.arange(len(col_labs))\n",
    "width = 0.20\n",
    "\n",
    "# Plotter risikoskårene i grupper ved siden av hverandre\n",
    "low = plt.bar(x-width, low, width, color='g')\n",
    "medium = plt.bar(x, medium, width, color='orange')\n",
    "high = plt.bar(x+width, high, width, color='r')\n",
    "\n",
    "plt.xticks(x, x_labs)\n",
    "plt.legend(col_labs)\n",
    "plt.title(\"\\nHvor mange av kandidatene innenfor hver gruppe som \\nfikk ulike risikoskårer *\\n\", loc = \"left\")\n",
    "plt.figtext(0.1, -0.1, \"* Risikoskårene er prediksjoner for hvor sannsynlig det er at de begår \\net nytt lovbrudd innen to år.\", ha = \"left\")\n",
    "plt.show()"
   ]
  },
  {
   "cell_type": "code",
   "execution_count": 486,
   "id": "d7a3be5f",
   "metadata": {},
   "outputs": [
    {
     "data": {
      "text/plain": [
       "<matplotlib.legend.Legend at 0x281e1518340>"
      ]
     },
     "execution_count": 486,
     "metadata": {},
     "output_type": "execute_result"
    },
    {
     "data": {
      "image/png": "[encoded data removed]",
      "text/plain": [
       "<Figure size 432x288 with 1 Axes>"
      ]
     },
     "metadata": {
      "needs_background": "light"
     },
     "output_type": "display_data"
    }
   ],
   "source": [
    "# Gold_pos er de som begikk nye lovbrudd innen to år\n",
    "gold_pos = df_select[df_select[\"two_year_recid\"] == 1]\n",
    "gold_neg = df_select[df_select[\"two_year_recid\"] == 0]\n",
    "\n",
    "# True pos er de som begikk nye lovbrudd og ble predikert til å begå nye lovbrudd\n",
    "true_pos = gold_pos[gold_pos[\"score_text\"] != \"Low\"]\n",
    "false_pos = gold_neg[gold_neg[\"score_text\"] != \"Low\"]\n",
    "\n",
    "true_neg = gold_neg[gold_neg[\"score_text\"] == \"Low\"]\n",
    "false_neg = gold_pos[gold_pos[\"score_text\"] == \"Low\"]\n",
    "\n",
    "col_labs = [\"true\", \"false\"]\n",
    "x_labs = [\"Recidivist\", \"Non-recidivist\"]\n",
    "x = np.arange(len(col_labs))\n",
    "width = 0.4\n",
    "\n",
    "plt.bar(x-0.20, [len(true_pos.index), len(true_neg.index)], width)\n",
    "plt.bar(x+0.20, [len(false_pos.index), len(false_neg.index)], width)\n",
    "\n",
    "plt.xticks(x, x_labs)\n",
    "plt.title(\"\\nHvor ofte de som begikk nye forbrytelser (og de som ikke \\ngjorde det) ble predikert riktig/feil.\\n\", loc = \"left\")\n",
    "plt.legend(col_labs)"
   ]
  },
  {
   "cell_type": "markdown",
   "id": "dcc905fa",
   "metadata": {},
   "source": [
    "#### \n",
    "#### \n",
    "- Hvordan de som begikk nye straffbare handlinger (og de som ikke gjorde det) fikk ulike risikoskårer - hvite versus svarte:"
   ]
  },
  {
   "cell_type": "code",
   "execution_count": 487,
   "id": "f802a839",
   "metadata": {},
   "outputs": [
    {
     "data": {
      "text/plain": [
       "<matplotlib.legend.Legend at 0x281e12bcca0>"
      ]
     },
     "execution_count": 487,
     "metadata": {},
     "output_type": "execute_result"
    },
    {
     "data": {
      "image/png": "[encoded data removed]",
      "text/plain": [
       "<Figure size 432x288 with 1 Axes>"
      ]
     },
     "metadata": {
      "needs_background": "light"
     },
     "output_type": "display_data"
    }
   ],
   "source": [
    "gold_pos_white = gold_pos[gold_pos[\"race\"] == \"Caucasian\"]\n",
    "gold_pos_black = gold_pos[gold_pos[\"race\"] == \"African-American\"]\n",
    "gold_neg_white = gold_neg[gold_neg[\"race\"] == \"Caucasian\"]\n",
    "gold_neg_black = gold_neg[gold_neg[\"race\"] == \"African-American\"]\n",
    "\n",
    "false_pos_white = gold_neg_white[gold_neg_white[\"score_text\"] != \"Low\"]\n",
    "false_pos_black = gold_neg_black[gold_neg_black[\"score_text\"] != \"Low\"]\n",
    "\n",
    "false_neg_white = gold_pos_white[gold_pos_white[\"score_text\"] == \"Low\"] \n",
    "false_neg_black = gold_pos_black[gold_pos_black[\"score_text\"] == \"Low\"]\n",
    "\n",
    "col_labs = [\"false positive\", \"false negative\"]\n",
    "x_labs = [\"White\", \"Black\"]\n",
    "x = np.arange(len(col_labs))\n",
    "width = 0.4\n",
    "\n",
    "plt.bar(x-0.2, [len(false_pos_white.index), len(false_neg_white.index)], width)\n",
    "plt.bar(x+0.2, [len(false_pos_black.index), len(false_neg_black.index)], width)\n",
    "\n",
    "plt.xticks(x, x_labs)\n",
    "plt.title(\"\\nFeilprediksjoner for svarte og hvite (rådata).\\n\", loc = \"left\")\n",
    "plt.legend(col_labs)"
   ]
  },
  {
   "cell_type": "code",
   "execution_count": 488,
   "id": "9eb8a7a8",
   "metadata": {},
   "outputs": [
    {
     "data": {
      "text/plain": [
       "<matplotlib.legend.Legend at 0x281e42fb880>"
      ]
     },
     "execution_count": 488,
     "metadata": {},
     "output_type": "execute_result"
    },
    {
     "data": {
      "image/png": "[encoded data removed]",
      "text/plain": [
       "<Figure size 432x288 with 1 Axes>"
      ]
     },
     "metadata": {
      "needs_background": "light"
     },
     "output_type": "display_data"
    }
   ],
   "source": [
    "pos_white_ratio = len(false_pos_white.index) / len(df_white.index) * 100\n",
    "pos_black_ratio = len(false_pos_black.index) / len(df_black.index) * 100\n",
    "neg_white_ratio = len(false_neg_white.index) / len(df_white.index) * 100\n",
    "neg_black_ratio = len(false_neg_black.index) / len(df_black.index) * 100\n",
    "\n",
    "col_labs = [\"false positive\", \"false negative\"]\n",
    "x_labs = [\"White\", \"Black\"]\n",
    "x = np.arange(len(col_labs))\n",
    "width = 0.4\n",
    "\n",
    "plt.bar(x-0.2, [pos_white_ratio, pos_black_ratio], width)\n",
    "plt.bar(x+0.2, [neg_white_ratio, neg_black_ratio], width)\n",
    "\n",
    "plt.xticks(x, x_labs)\n",
    "plt.title(\"\\nFeilprediksjoner for svarte og hvite (andel).\\n\", loc = \"left\")\n",
    "plt.legend(col_labs)"
   ]
  },
  {
   "cell_type": "markdown",
   "id": "eece89aa",
   "metadata": {},
   "source": [
    "### 1 d)"
   ]
  },
  {
   "cell_type": "code",
   "execution_count": 489,
   "id": "521145ce",
   "metadata": {},
   "outputs": [
    {
     "data": {
      "text/plain": [
       "Index(['sex', 'age_cat', 'race', 'juv_fel_count', 'juv_misd_count',\n",
       "       'juv_other_count', 'priors_count', 'days_b_screening_arrest'],\n",
       "      dtype='object')"
      ]
     },
     "execution_count": 489,
     "metadata": {},
     "output_type": "execute_result"
    }
   ],
   "source": [
    "# Velger ut data for å trene modeller, med og uten COMPAS-data\n",
    "X_compas = df_select.drop(columns = ['id','name','two_year_recid', \"is_violent_recid\", \"is_recid\"])\n",
    "\n",
    "#Vår modell med egenutvalgt input, uten COMPAS-summer\n",
    "X_pure = X_compas.drop(columns = [\"score_text\", \"v_decile_score\"])\n",
    "\n",
    "#Propublicas modell: Input brukt av Propublica for å predikere hva COMPAS-algoritmen sine prediksjoner\n",
    "X_propublica = df[[\"age_cat\", \"race\", \"sex\", \"priors_count\", \"c_charge_degree\", \"two_year_recid\"]]\n",
    "X_pure.columns"
   ]
  },
  {
   "cell_type": "code",
   "execution_count": 490,
   "id": "2ef0129e",
   "metadata": {},
   "outputs": [],
   "source": [
    "#Definerer kategoriske of numeriske verdier for X_compas\n",
    "categorical_cols_X_compas = ['sex', 'age_cat', 'race', \"score_text\"] # skal konverteres til kategoriske vha one-hot encoding\n",
    "numerical_cols_X_compas = [el for el in X_compas.columns if el not in categorical_cols_X_compas] #skal konverteres til arrays av int\n",
    "\n",
    "#Definerer kategoriske of numeriske verdier for X_pure\n",
    "categorical_cols_X_pure = ['sex', 'age_cat', 'race']\n",
    "numerical_cols_X_pure = [el for el in X_pure.columns if el not in categorical_cols_X_pure] #lager en liste av alle som ikke skal være kategoriske\n",
    "\n",
    "#Definerer kategoriske of numeriske verdier for X_propublica\n",
    "categorical_cols_propublica = [\"age_cat\", \"race\", \"sex\", \"c_charge_degree\"]\n",
    "numerical_cols_X_propublica = [el for el in X_propublica.columns if el not in categorical_cols_propublica]\n"
   ]
  },
  {
   "cell_type": "code",
   "execution_count": 491,
   "id": "79c15fe1",
   "metadata": {},
   "outputs": [],
   "source": [
    "#Konverterer verdier til kategoriske vha one-hot-encoding\n",
    "X_compas = pd.get_dummies(X_compas, columns=categorical_cols_X_compas, prefix=categorical_cols_X_compas, prefix_sep='_')\n",
    "X_pure = pd.get_dummies(X_pure, columns=categorical_cols_X_pure, prefix=categorical_cols_X_pure, prefix_sep='_')\n",
    "X_propublica = pd.get_dummies(X_propublica, columns=categorical_cols_propublica, prefix=categorical_cols_propublica, prefix_sep='_')\n",
    "\n",
    "#Fjerner kolonnene tatt vekk i propublica\n",
    "X_propublica = X_propublica.drop([\"age_cat_25 - 45\", \"race_Caucasian\", \"sex_Male\", \"c_charge_degree_F\"], axis=1)\n",
    "\n",
    "\n",
    "#konverterer numeriske verdier til numpy-array av int\n",
    "for col in numerical_cols_X_compas:\n",
    "    X_compas[col] = X_compas[[col]].to_numpy()\n",
    "\n",
    "for col in numerical_cols_X_pure:\n",
    "    X_pure[col] = X_pure[[col]].to_numpy()\n",
    "\n",
    "for col in numerical_cols_X_propublica:\n",
    "    X_propublica[col] = X_propublica[[col]].to_numpy()\n"
   ]
  },
  {
   "cell_type": "code",
   "execution_count": 492,
   "id": "ba0ce73d",
   "metadata": {},
   "outputs": [],
   "source": [
    "#Det som skal predikeres for pure og compas\n",
    "Y = df_select[[\"two_year_recid\"]]\n",
    "Y = np.ravel(Y)\n",
    "#Det som skal predikeres for propublica\n",
    "Y_prop = df_select[\"score_text\"] != \"Low\""
   ]
  },
  {
   "cell_type": "code",
   "execution_count": 493,
   "id": "f44a8897",
   "metadata": {},
   "outputs": [
    {
     "data": {
      "text/plain": [
       "array([[0.45062772, 0.54937228],\n",
       "       [0.8483857 , 0.1516143 ],\n",
       "       [0.45077215, 0.54922785],\n",
       "       ...,\n",
       "       [0.42695491, 0.57304509],\n",
       "       [0.27571243, 0.72428757],\n",
       "       [0.34295693, 0.65704307]])"
      ]
     },
     "execution_count": 493,
     "metadata": {},
     "output_type": "execute_result"
    }
   ],
   "source": [
    "#Model som predikerer uten COMPAS-data og model som predikerer utifra COMPAS\n",
    "\n",
    "#logistisk regresjonsmodell\n",
    "\n",
    "#Pure\n",
    "Xp_train, Xp_test, Y_train, Y_test = train_test_split(X_pure, Y, test_size = 0.2, random_state = 0)\n",
    "log_reg_pure = LogisticRegression(max_iter=1000)\n",
    "\n",
    "log_reg_pure.fit(Xp_train, Y_train)\n",
    "weights_pure  = log_reg_pure.coef_[0]\n",
    "\n",
    "log_reg_pure.predict(Xp_train)\n",
    "log_reg_pure.predict_proba(Xp_train)\n",
    "\n",
    "#Compas\n",
    "Xc_train, Xc_test, Y_train, Y_test = train_test_split(X_compas, Y, test_size = 0.2, random_state = 0)\n",
    "log_reg_compas = LogisticRegression(max_iter=1000)\n",
    "\n",
    "log_reg_compas.fit(Xc_train, Y_train)\n",
    "weights_compas  = log_reg_compas.coef_[0]\n",
    "\n",
    "log_reg_compas.predict(Xc_train)\n",
    "log_reg_compas.predict_proba(Xc_train)\n",
    "\n",
    "#Propublica\n",
    "Xprop_train, Xprop_test, Y_prop_train, Y_prop_test = train_test_split(X_propublica, Y_prop, test_size = 0.2, random_state = 0)\n",
    "log_reg_propublica = LogisticRegression(max_iter=1000)\n",
    "\n",
    "log_reg_propublica.fit(Xprop_train, Y_prop_train)\n",
    "weights_propublica  = log_reg_propublica.coef_[0]\n",
    "\n",
    "log_reg_propublica.predict(Xprop_train)\n",
    "log_reg_propublica.predict_proba(Xprop_train)"
   ]
  },
  {
   "cell_type": "code",
   "execution_count": 494,
   "id": "72156b59",
   "metadata": {},
   "outputs": [
    {
     "name": "stdout",
     "output_type": "stream",
     "text": [
      "I compas-datasettet hadde parameteren 'score_text_High' høyest vekt (0.405). \n",
      "\n",
      "I pure-datasettet hadde parameteren 'age_cat_Less than 25' høyest vekt (0.642). \n",
      "\n",
      "I propublica-datasettet hadde parameteren 'age_cat_Less than 25' høyest vekt (1.372).\n"
     ]
    }
   ],
   "source": [
    "def most_important_param(params, weights):\n",
    "    weight_highest = max(weights)\n",
    "    index_highest = np.where(weights == weight_highest)[0][0]\n",
    "    param_highest = params[index_highest]\n",
    "\n",
    "    return f\"hadde parameteren '{param_highest}' høyest vekt ({np.around(weight_highest, 3)}).\"\n",
    "\n",
    "print(\"I compas-datasettet\", most_important_param(X_compas.columns, weights_compas), \"\\n\")\n",
    "print(\"I pure-datasettet\", most_important_param(X_pure.columns, weights_pure), \"\\n\")\n",
    "print(\"I propublica-datasettet\", most_important_param(X_propublica.columns, weights_propublica))"
   ]
  },
  {
   "cell_type": "code",
   "execution_count": 495,
   "id": "bc0370ca",
   "metadata": {},
   "outputs": [
    {
     "name": "stdout",
     "output_type": "stream",
     "text": [
      "0.6704453441295547\n",
      "0.7336032388663968\n",
      "0.6834008097165992\n"
     ]
    }
   ],
   "source": [
    "#Tester treffsikkerheten til modellene \n",
    "\n",
    "#pure\n",
    "print(log_reg_pure.score(Xp_test, Y_test))\n",
    "\n",
    "#Propublica\n",
    "print(log_reg_propublica.score(Xprop_test, Y_prop_test))\n",
    "\n",
    "#Compas\n",
    "print(log_reg_compas.score(Xc_test, Y_test))\n",
    "\n"
   ]
  },
  {
   "cell_type": "markdown",
   "id": "9274a941",
   "metadata": {},
   "source": [
    "#### Confusion matrix for pure-modellen"
   ]
  },
  {
   "cell_type": "code",
   "execution_count": 496,
   "id": "976ef257",
   "metadata": {},
   "outputs": [
    {
     "name": "stdout",
     "output_type": "stream",
     "text": [
      "Antallet ekte positive for Hvite er 290, antallet falske positive er 157, antallet ekte negative er 1124 og falske negative er 532.\n",
      "Antallet ekte positive for Svarte er 1149, antallet falske positive er 536, antallet ekte negative er 978 og falske negative er 512.\n",
      "Antallet ekte positive for Menn er 1431, antallet falske positive er 708, antallet ekte negative er 1893 og falske negative er 965.\n",
      "Antallet ekte positive for Kvinner er 103, antallet falske positive er 39, antallet ekte negative er 723 og falske negative er 310.\n",
      "Antallet ekte positive for Hele gruppen er 1534, antallet falske positive er 747, antallet ekte negative er 2616 og falske negative er 1275.\n"
     ]
    }
   ],
   "source": [
    "#Lager confusion matrix for de ulike gruppene for pure-modellen\n",
    "\n",
    "#Oppretter ordboken hvor verdiene skal lagres. Gruppe som nøkkel, kolonnenavnet i datasettet som verdi.\n",
    "cm_per_gruppe = {'Hvite': \"race_Caucasian\" , 'Svarte': \"race_African-American\" , 'Menn': \"sex_Male\", 'Kvinner': \"sex_Female\"}\n",
    "\n",
    "#Itererer gjennom ordboken, utfører operasjonene for hver nøkkel. \n",
    "for key in cm_per_gruppe.keys():\n",
    "\n",
    "    #Deler opp kolonnenavnet, siden det ligger på formen (Kolonne): (Verdi) i datasettet, ikke kategorisk oppdeling med (kolonnenavn) : (1/0) slik som her. \n",
    "    #Henter deretter ut dataen som matcher gruppen. F.eks. alle med race_African-American == 1. (Alle som tilhører etnisiteten)\n",
    "    filterVerdi = cm_per_gruppe[key].split(\"_\")\n",
    "    df_filtrert_paa_gruppe = df_select[df_select[filterVerdi[0]] == filterVerdi[1]]\n",
    "\n",
    "    #Gjør en prediksjon på den utvalgte gruppen med modellen trent tidligere. Overskriver verdien til nøkkelen i ordboken og lagrer prediksjonsarrayet som verdi.\n",
    "    #Henter ut prediksjonene fra COMPAS for gruppen og lagrer som et Y-array for sammenligning.\n",
    "    #Oppretter en confusion matrix. Lagrer denne som nøkkelens nye verdi. \n",
    "    cm_per_gruppe[key] = ((log_reg_pure.predict(X_pure[X_pure[cm_per_gruppe[key]] == 1])))\n",
    "    Y_cm = df_filtrert_paa_gruppe[[\"two_year_recid\"]]\n",
    "    Y_cm = np.ravel(Y_cm)\n",
    "    tn, fp, fn, tp = confusion_matrix(Y_cm, cm_per_gruppe[key]).ravel()\n",
    "    cm_per_gruppe[key] = {\"tn\": tn, \"fp\": fp, \"fn\": fn, \"tp\": tp}\n",
    "    \n",
    "#Oppretter confusion matrix for hele datasettet samlet. Lagrer som en egen nøkkel med verdi.\n",
    "y_pred = log_reg_pure.predict(X_pure)\n",
    "\n",
    "tn, fp, fn, tp = confusion_matrix(Y, y_pred).ravel()\n",
    "cm_per_gruppe[\"Hele gruppen\"] = {\"tn\": tn, \"fp\": fp, \"fn\": fn, \"tp\": tp}\n",
    "\n",
    "\n",
    "#Itererer gjennom ordboken og skriver ut.\n",
    "for key in cm_per_gruppe.keys():\n",
    "    print(f\"Antallet ekte positive for {key} er {cm_per_gruppe[key]['tp']}, antallet falske positive er {cm_per_gruppe[key]['fp']}, antallet ekte negative er {cm_per_gruppe[key]['tn']} og falske negative er {cm_per_gruppe[key]['fn']}.\")\n",
    "    "
   ]
  },
  {
   "cell_type": "markdown",
   "id": "14391cde",
   "metadata": {},
   "source": [
    "#### Confusion matrix for datasettet (COMPAS' faktiske prediksjoner vs. utfallet)"
   ]
  },
  {
   "cell_type": "code",
   "execution_count": 497,
   "metadata": {},
   "outputs": [
    {
     "name": "stdout",
     "output_type": "stream",
     "text": [
      "Antallet sanne positive for Hvite er 414, antallet falske positive er 282, antallet sanne negative er 999, falske negative er 408 og positiv prediktiv verdi er 59%.\n",
      "Antallet sanne positive for Svarte er 1188, antallet falske positive er 641, antallet sanne negative er 873, falske negative er 473 og positiv prediktiv verdi er 65%.\n",
      "Antallet sanne positive for Menn er 1487, antallet falske positive er 788, antallet sanne negative er 1813, falske negative er 909 og positiv prediktiv verdi er 65%.\n",
      "Antallet sanne positive for Kvinner er 246, antallet falske positive er 230, antallet sanne negative er 532, falske negative er 167 og positiv prediktiv verdi er 52%.\n",
      "Antallet sanne positive for Hele Gruppen er 1733, antallet falske positive er 1018, antallet sanne negative er 2345, falske negative er 1076 og positiv prediktiv verdi er 63%.\n",
      "{'Hvite': {'tn': 999, 'fp': 282, 'fn': 408, 'tp': 414, 'ppv': 59}, 'Svarte': {'tn': 873, 'fp': 641, 'fn': 473, 'tp': 1188, 'ppv': 65}, 'Menn': {'tn': 1813, 'fp': 788, 'fn': 909, 'tp': 1487, 'ppv': 65}, 'Kvinner': {'tn': 532, 'fp': 230, 'fn': 167, 'tp': 246, 'ppv': 52}, 'Hele Gruppen': {'tn': 2345, 'fp': 1018, 'fn': 1076, 'tp': 1733, 'ppv': 63}}\n"
     ]
    }
   ],
   "source": [
    "cm_per_gruppe_for_datasett = {'Hvite': \"race_Caucasian\" , 'Svarte': \"race_African-American\" , 'Menn': \"sex_Male\", 'Kvinner': \"sex_Female\"}\n",
    "\n",
    "def func (hoyrisk, lavrisk):\n",
    "    hoyrisk_kat = np.full(len(hoyrisk), 1)\n",
    "    lavrisk_kat = np.full(len(lavrisk), 0)\n",
    "\n",
    "    recidivist_hoyrisk = hoyrisk[\"two_year_recid\"]\n",
    "    recidivist_lavrisk = lavrisk[\"two_year_recid\"]\n",
    "\n",
    "    xx, fp, yy, tp = confusion_matrix(recidivist_hoyrisk, hoyrisk_kat).ravel()\n",
    "    tn, xx, fn, yy = confusion_matrix(recidivist_lavrisk, lavrisk_kat).ravel()\n",
    "\n",
    "    ppv = posPredVerdi(hoyrisk)\n",
    "\n",
    "    return {\"tn\": tn, \"fp\": fp, \"fn\": fn, \"tp\": tp, \"ppv\": ppv}\n",
    "\n",
    "\n",
    "def posPredVerdi (hoyrisk):\n",
    "    recidivist_hoyrisk = hoyrisk[hoyrisk[\"two_year_recid\"]==1]\n",
    "    return round((len(recidivist_hoyrisk) / len(hoyrisk)) * 100)\n",
    "\n",
    "\n",
    "\n",
    "for key in cm_per_gruppe_for_datasett.keys():\n",
    "\n",
    "    filterVerdi = cm_per_gruppe_for_datasett[key].split(\"_\")\n",
    "    df_filtrert_paa_gruppe = df_select[df_select[filterVerdi[0]] == filterVerdi[1]]\n",
    "\n",
    "    hoyrisk = df_filtrert_paa_gruppe[df_filtrert_paa_gruppe[\"score_text\"] != \"Low\"]\n",
    "    lavrisk = df_filtrert_paa_gruppe[df_filtrert_paa_gruppe[\"score_text\"] == \"Low\"]\n",
    "\n",
    "    cm_per_gruppe_for_datasett[key] = func(hoyrisk, lavrisk)\n",
    "\n",
    "\n",
    "\n",
    "hoyrisk = df_select[df_select[\"score_text\"] != \"Low\"]\n",
    "lavrisk = df_select[df_select[\"score_text\"] == \"Low\"]\n",
    "cm_per_gruppe_for_datasett[\"Hele Gruppen\"] = func(hoyrisk, lavrisk)\n",
    "\n",
    "\n",
    "\n",
    "for key in cm_per_gruppe_for_datasett.keys():\n",
    "    print(f\"Antallet sanne positive for {key} er {cm_per_gruppe_for_datasett[key]['tp']}, antallet falske positive er {cm_per_gruppe_for_datasett[key]['fp']}, antallet sanne negative er {cm_per_gruppe_for_datasett[key]['tn']}, falske negative er {cm_per_gruppe_for_datasett[key]['fn']} og positiv prediktiv verdi er {cm_per_gruppe_for_datasett[key]['ppv']}%.\")\n",
    "\n",
    "\n",
    "print(cm_per_gruppe_for_datasett)"
   ]
  },
  {
   "cell_type": "code",
   "execution_count": 498,
   "id": "4d94656a",
   "metadata": {},
   "outputs": [],
   "source": [
    "for key in cm_per_gruppe_for_datasett.keys():\n",
    "    data =  [\n",
    "                [         'True', 'False'],\n",
    "                [ 'Positive',  cm_per_gruppe_for_datasett[key]['tp'], cm_per_gruppe_for_datasett[key]['fp']],\n",
    "                ['Negative',  cm_per_gruppe_for_datasett[key]['tn'], cm_per_gruppe_for_datasett[key]['fn']]\n",
    "            ]\n",
    "    # Pop the headers from the data array\n",
    "    column_headers = data.pop(0)\n",
    "    row_headers = [x.pop(0) for x in data]\n",
    "    # Table data needs to be non-numeric text. Format the data\n",
    "    # while I'm at it.\n",
    "    cell_text = []\n",
    "    for row in data:\n",
    "        cell_text.append([f'{x}' for x in row])\n",
    "    "
   ]
  },
  {
   "cell_type": "markdown",
   "id": "97607caf",
   "metadata": {},
   "source": [
    "#### Partial dependence"
   ]
  },
  {
   "cell_type": "code",
   "execution_count": 499,
   "id": "077455b0",
   "metadata": {},
   "outputs": [
    {
     "name": "stdout",
     "output_type": "stream",
     "text": [
      "dict_keys(['priors_count', 'two_year_recid', 'age_cat_Greater than 45', 'age_cat_Less than 25', 'race_African-American', 'race_Asian', 'race_Hispanic', 'race_Native American', 'race_Other', 'sex_Female', 'c_charge_degree_M'])\n"
     ]
    }
   ],
   "source": [
    "z_vals = {}\n",
    "\n",
    "for col in X_propublica.columns: # henter x- og y-verdier for hver parameter\n",
    "    x_raw = partial_dependence(log_reg_propublica, X_propublica, [col])[1][0]\n",
    "    y = partial_dependence(log_reg_propublica, X_propublica, [col])[0][0]\n",
    "    x = (x_raw - np.min(x_raw)) / (np.max(x_raw) - np.min(x_raw)) # standardiserer alle x-verdier til å ligge mellom 0 og 1\n",
    "    z_vals[col] =  (x, y)\n",
    "\n",
    "print(z_vals.keys())"
   ]
  },
  {
   "cell_type": "code",
   "execution_count": 500,
   "id": "b574c92e",
   "metadata": {},
   "outputs": [
    {
     "data": {
      "image/png": "[encoded data removed]",
      "text/plain": [
       "<Figure size 432x288 with 1 Axes>"
      ]
     },
     "metadata": {
      "needs_background": "light"
     },
     "output_type": "display_data"
    },
    {
     "data": {
      "image/png": "[encoded data removed]",
      "text/plain": [
       "<Figure size 432x288 with 1 Axes>"
      ]
     },
     "metadata": {
      "needs_background": "light"
     },
     "output_type": "display_data"
    },
    {
     "data": {
      "text/plain": [
       "<Figure size 1440x360 with 0 Axes>"
      ]
     },
     "metadata": {},
     "output_type": "display_data"
    }
   ],
   "source": [
    "def plot_params(vals_dict, params):\n",
    "    labels = []\n",
    "    for param in params:\n",
    "        plt.plot(vals_dict[param][0], vals_dict[param][1], alpha = 0.6, lw = 3)\n",
    "        labels.append(param)\n",
    "            \n",
    "    plt.legend(labels)\n",
    "    plt.show()\n",
    "\n",
    "\n",
    "races = [\"race_African-American\", \"race_Asian\", \"race_Hispanic\", \"race_Native American\", \"race_Other\"]\n",
    "\n",
    "plot_params(z_vals, races) # plotter de ulike parameterkategoriene hver for segs(z_vals, \"age_cat\")\n",
    "plot_params(z_vals, ['priors_count', 'two_year_recid', 'age_cat_Greater than 45', 'age_cat_Less than 25', 'sex_Female', 'c_charge_degree_M'])\n",
    "\n",
    "plt.gcf().set_size_inches(20, 5)"
   ]
  },
  {
   "cell_type": "code",
   "execution_count": 501,
   "id": "3b2acb5d",
   "metadata": {},
   "outputs": [
    {
     "name": "stdout",
     "output_type": "stream",
     "text": [
      "[ 0  1  2  3  4  5  6  8 10] [0.5235085  0.51775404 0.51200004 0.50624785 0.50049882 0.49475428\n",
      " 0.48901557 0.4775609  0.46614525]\n"
     ]
    },
    {
     "ename": "ValueError",
     "evalue": "x and y must have same first dimension, but have shapes (9,) and (7,)",
     "output_type": "error",
     "traceback": [
      "\u001b[1;31m---------------------------------------------------------------------------\u001b[0m",
      "\u001b[1;31mValueError\u001b[0m                                Traceback (most recent call last)",
      "\u001b[1;32m~\\AppData\\Local\\Temp/ipykernel_30784/3818407606.py\u001b[0m in \u001b[0;36m<module>\u001b[1;34m\u001b[0m\n\u001b[0;32m     46\u001b[0m \u001b[1;32mfor\u001b[0m \u001b[0mparam\u001b[0m \u001b[1;32min\u001b[0m \u001b[0mpart_dep_vals\u001b[0m\u001b[1;33m.\u001b[0m\u001b[0mkeys\u001b[0m\u001b[1;33m(\u001b[0m\u001b[1;33m)\u001b[0m\u001b[1;33m:\u001b[0m\u001b[1;33m\u001b[0m\u001b[1;33m\u001b[0m\u001b[0m\n\u001b[0;32m     47\u001b[0m     \u001b[0mlabels\u001b[0m \u001b[1;33m=\u001b[0m \u001b[1;33m[\u001b[0m\u001b[1;33m]\u001b[0m\u001b[1;33m\u001b[0m\u001b[1;33m\u001b[0m\u001b[0m\n\u001b[1;32m---> 48\u001b[1;33m     \u001b[0mplt\u001b[0m\u001b[1;33m.\u001b[0m\u001b[0mplot\u001b[0m\u001b[1;33m(\u001b[0m\u001b[0mpart_dep_vals\u001b[0m\u001b[1;33m[\u001b[0m\u001b[0mparam\u001b[0m\u001b[1;33m]\u001b[0m\u001b[1;33m[\u001b[0m\u001b[1;34m\"race_African-American\"\u001b[0m\u001b[1;33m]\u001b[0m\u001b[1;33m[\u001b[0m\u001b[1;36m0\u001b[0m\u001b[1;33m]\u001b[0m\u001b[1;33m,\u001b[0m \u001b[0mpart_dep_vals\u001b[0m\u001b[1;33m[\u001b[0m\u001b[0mparam\u001b[0m\u001b[1;33m]\u001b[0m\u001b[1;33m[\u001b[0m\u001b[1;34m\"race_Caucasian\"\u001b[0m\u001b[1;33m]\u001b[0m\u001b[1;33m[\u001b[0m\u001b[1;36m1\u001b[0m\u001b[1;33m]\u001b[0m\u001b[1;33m,\u001b[0m \u001b[0malpha\u001b[0m \u001b[1;33m=\u001b[0m \u001b[1;36m0.6\u001b[0m\u001b[1;33m,\u001b[0m \u001b[0mlw\u001b[0m \u001b[1;33m=\u001b[0m \u001b[1;36m3\u001b[0m\u001b[1;33m)\u001b[0m\u001b[1;33m\u001b[0m\u001b[1;33m\u001b[0m\u001b[0m\n\u001b[0m\u001b[0;32m     49\u001b[0m     \u001b[0mplt\u001b[0m\u001b[1;33m.\u001b[0m\u001b[0mplot\u001b[0m\u001b[1;33m(\u001b[0m\u001b[0mpart_dep_vals\u001b[0m\u001b[1;33m[\u001b[0m\u001b[0mparam\u001b[0m\u001b[1;33m]\u001b[0m\u001b[1;33m[\u001b[0m\u001b[1;34m\"race_African-American\"\u001b[0m\u001b[1;33m]\u001b[0m\u001b[1;33m[\u001b[0m\u001b[1;36m0\u001b[0m\u001b[1;33m]\u001b[0m\u001b[1;33m,\u001b[0m \u001b[0mpart_dep_vals\u001b[0m\u001b[1;33m[\u001b[0m\u001b[0mparam\u001b[0m\u001b[1;33m]\u001b[0m\u001b[1;33m[\u001b[0m\u001b[1;34m\"race_Caucasian\"\u001b[0m\u001b[1;33m]\u001b[0m\u001b[1;33m[\u001b[0m\u001b[1;36m1\u001b[0m\u001b[1;33m]\u001b[0m\u001b[1;33m,\u001b[0m \u001b[0malpha\u001b[0m \u001b[1;33m=\u001b[0m \u001b[1;36m0.6\u001b[0m\u001b[1;33m,\u001b[0m \u001b[0mlw\u001b[0m \u001b[1;33m=\u001b[0m \u001b[1;36m3\u001b[0m\u001b[1;33m)\u001b[0m\u001b[1;33m\u001b[0m\u001b[1;33m\u001b[0m\u001b[0m\n\u001b[0;32m     50\u001b[0m     \u001b[0mlabels\u001b[0m\u001b[1;33m.\u001b[0m\u001b[0mappend\u001b[0m\u001b[1;33m(\u001b[0m\u001b[0mparam\u001b[0m\u001b[1;33m)\u001b[0m\u001b[1;33m\u001b[0m\u001b[1;33m\u001b[0m\u001b[0m\n",
      "\u001b[1;32m~\\Documents\\Skole\\HON2200\\Anaconda\\lib\\site-packages\\matplotlib\\pyplot.py\u001b[0m in \u001b[0;36mplot\u001b[1;34m(scalex, scaley, data, *args, **kwargs)\u001b[0m\n\u001b[0;32m   3017\u001b[0m \u001b[1;33m@\u001b[0m\u001b[0m_copy_docstring_and_deprecators\u001b[0m\u001b[1;33m(\u001b[0m\u001b[0mAxes\u001b[0m\u001b[1;33m.\u001b[0m\u001b[0mplot\u001b[0m\u001b[1;33m)\u001b[0m\u001b[1;33m\u001b[0m\u001b[1;33m\u001b[0m\u001b[0m\n\u001b[0;32m   3018\u001b[0m \u001b[1;32mdef\u001b[0m \u001b[0mplot\u001b[0m\u001b[1;33m(\u001b[0m\u001b[1;33m*\u001b[0m\u001b[0margs\u001b[0m\u001b[1;33m,\u001b[0m \u001b[0mscalex\u001b[0m\u001b[1;33m=\u001b[0m\u001b[1;32mTrue\u001b[0m\u001b[1;33m,\u001b[0m \u001b[0mscaley\u001b[0m\u001b[1;33m=\u001b[0m\u001b[1;32mTrue\u001b[0m\u001b[1;33m,\u001b[0m \u001b[0mdata\u001b[0m\u001b[1;33m=\u001b[0m\u001b[1;32mNone\u001b[0m\u001b[1;33m,\u001b[0m \u001b[1;33m**\u001b[0m\u001b[0mkwargs\u001b[0m\u001b[1;33m)\u001b[0m\u001b[1;33m:\u001b[0m\u001b[1;33m\u001b[0m\u001b[1;33m\u001b[0m\u001b[0m\n\u001b[1;32m-> 3019\u001b[1;33m     return gca().plot(\n\u001b[0m\u001b[0;32m   3020\u001b[0m         \u001b[1;33m*\u001b[0m\u001b[0margs\u001b[0m\u001b[1;33m,\u001b[0m \u001b[0mscalex\u001b[0m\u001b[1;33m=\u001b[0m\u001b[0mscalex\u001b[0m\u001b[1;33m,\u001b[0m \u001b[0mscaley\u001b[0m\u001b[1;33m=\u001b[0m\u001b[0mscaley\u001b[0m\u001b[1;33m,\u001b[0m\u001b[1;33m\u001b[0m\u001b[1;33m\u001b[0m\u001b[0m\n\u001b[0;32m   3021\u001b[0m         **({\"data\": data} if data is not None else {}), **kwargs)\n",
      "\u001b[1;32m~\\Documents\\Skole\\HON2200\\Anaconda\\lib\\site-packages\\matplotlib\\axes\\_axes.py\u001b[0m in \u001b[0;36mplot\u001b[1;34m(self, scalex, scaley, data, *args, **kwargs)\u001b[0m\n\u001b[0;32m   1603\u001b[0m         \"\"\"\n\u001b[0;32m   1604\u001b[0m         \u001b[0mkwargs\u001b[0m \u001b[1;33m=\u001b[0m \u001b[0mcbook\u001b[0m\u001b[1;33m.\u001b[0m\u001b[0mnormalize_kwargs\u001b[0m\u001b[1;33m(\u001b[0m\u001b[0mkwargs\u001b[0m\u001b[1;33m,\u001b[0m \u001b[0mmlines\u001b[0m\u001b[1;33m.\u001b[0m\u001b[0mLine2D\u001b[0m\u001b[1;33m)\u001b[0m\u001b[1;33m\u001b[0m\u001b[1;33m\u001b[0m\u001b[0m\n\u001b[1;32m-> 1605\u001b[1;33m         \u001b[0mlines\u001b[0m \u001b[1;33m=\u001b[0m \u001b[1;33m[\u001b[0m\u001b[1;33m*\u001b[0m\u001b[0mself\u001b[0m\u001b[1;33m.\u001b[0m\u001b[0m_get_lines\u001b[0m\u001b[1;33m(\u001b[0m\u001b[1;33m*\u001b[0m\u001b[0margs\u001b[0m\u001b[1;33m,\u001b[0m \u001b[0mdata\u001b[0m\u001b[1;33m=\u001b[0m\u001b[0mdata\u001b[0m\u001b[1;33m,\u001b[0m \u001b[1;33m**\u001b[0m\u001b[0mkwargs\u001b[0m\u001b[1;33m)\u001b[0m\u001b[1;33m]\u001b[0m\u001b[1;33m\u001b[0m\u001b[1;33m\u001b[0m\u001b[0m\n\u001b[0m\u001b[0;32m   1606\u001b[0m         \u001b[1;32mfor\u001b[0m \u001b[0mline\u001b[0m \u001b[1;32min\u001b[0m \u001b[0mlines\u001b[0m\u001b[1;33m:\u001b[0m\u001b[1;33m\u001b[0m\u001b[1;33m\u001b[0m\u001b[0m\n\u001b[0;32m   1607\u001b[0m             \u001b[0mself\u001b[0m\u001b[1;33m.\u001b[0m\u001b[0madd_line\u001b[0m\u001b[1;33m(\u001b[0m\u001b[0mline\u001b[0m\u001b[1;33m)\u001b[0m\u001b[1;33m\u001b[0m\u001b[1;33m\u001b[0m\u001b[0m\n",
      "\u001b[1;32m~\\Documents\\Skole\\HON2200\\Anaconda\\lib\\site-packages\\matplotlib\\axes\\_base.py\u001b[0m in \u001b[0;36m__call__\u001b[1;34m(self, data, *args, **kwargs)\u001b[0m\n\u001b[0;32m    313\u001b[0m                 \u001b[0mthis\u001b[0m \u001b[1;33m+=\u001b[0m \u001b[0margs\u001b[0m\u001b[1;33m[\u001b[0m\u001b[1;36m0\u001b[0m\u001b[1;33m]\u001b[0m\u001b[1;33m,\u001b[0m\u001b[1;33m\u001b[0m\u001b[1;33m\u001b[0m\u001b[0m\n\u001b[0;32m    314\u001b[0m                 \u001b[0margs\u001b[0m \u001b[1;33m=\u001b[0m \u001b[0margs\u001b[0m\u001b[1;33m[\u001b[0m\u001b[1;36m1\u001b[0m\u001b[1;33m:\u001b[0m\u001b[1;33m]\u001b[0m\u001b[1;33m\u001b[0m\u001b[1;33m\u001b[0m\u001b[0m\n\u001b[1;32m--> 315\u001b[1;33m             \u001b[1;32myield\u001b[0m \u001b[1;32mfrom\u001b[0m \u001b[0mself\u001b[0m\u001b[1;33m.\u001b[0m\u001b[0m_plot_args\u001b[0m\u001b[1;33m(\u001b[0m\u001b[0mthis\u001b[0m\u001b[1;33m,\u001b[0m \u001b[0mkwargs\u001b[0m\u001b[1;33m)\u001b[0m\u001b[1;33m\u001b[0m\u001b[1;33m\u001b[0m\u001b[0m\n\u001b[0m\u001b[0;32m    316\u001b[0m \u001b[1;33m\u001b[0m\u001b[0m\n\u001b[0;32m    317\u001b[0m     \u001b[1;32mdef\u001b[0m \u001b[0mget_next_color\u001b[0m\u001b[1;33m(\u001b[0m\u001b[0mself\u001b[0m\u001b[1;33m)\u001b[0m\u001b[1;33m:\u001b[0m\u001b[1;33m\u001b[0m\u001b[1;33m\u001b[0m\u001b[0m\n",
      "\u001b[1;32m~\\Documents\\Skole\\HON2200\\Anaconda\\lib\\site-packages\\matplotlib\\axes\\_base.py\u001b[0m in \u001b[0;36m_plot_args\u001b[1;34m(self, tup, kwargs, return_kwargs)\u001b[0m\n\u001b[0;32m    499\u001b[0m \u001b[1;33m\u001b[0m\u001b[0m\n\u001b[0;32m    500\u001b[0m         \u001b[1;32mif\u001b[0m \u001b[0mx\u001b[0m\u001b[1;33m.\u001b[0m\u001b[0mshape\u001b[0m\u001b[1;33m[\u001b[0m\u001b[1;36m0\u001b[0m\u001b[1;33m]\u001b[0m \u001b[1;33m!=\u001b[0m \u001b[0my\u001b[0m\u001b[1;33m.\u001b[0m\u001b[0mshape\u001b[0m\u001b[1;33m[\u001b[0m\u001b[1;36m0\u001b[0m\u001b[1;33m]\u001b[0m\u001b[1;33m:\u001b[0m\u001b[1;33m\u001b[0m\u001b[1;33m\u001b[0m\u001b[0m\n\u001b[1;32m--> 501\u001b[1;33m             raise ValueError(f\"x and y must have same first dimension, but \"\n\u001b[0m\u001b[0;32m    502\u001b[0m                              f\"have shapes {x.shape} and {y.shape}\")\n\u001b[0;32m    503\u001b[0m         \u001b[1;32mif\u001b[0m \u001b[0mx\u001b[0m\u001b[1;33m.\u001b[0m\u001b[0mndim\u001b[0m \u001b[1;33m>\u001b[0m \u001b[1;36m2\u001b[0m \u001b[1;32mor\u001b[0m \u001b[0my\u001b[0m\u001b[1;33m.\u001b[0m\u001b[0mndim\u001b[0m \u001b[1;33m>\u001b[0m \u001b[1;36m2\u001b[0m\u001b[1;33m:\u001b[0m\u001b[1;33m\u001b[0m\u001b[1;33m\u001b[0m\u001b[0m\n",
      "\u001b[1;31mValueError\u001b[0m: x and y must have same first dimension, but have shapes (9,) and (7,)"
     ]
    },
    {
     "data": {
      "image/png": "[encoded data removed]",
      "text/plain": [
       "<Figure size 432x288 with 1 Axes>"
      ]
     },
     "metadata": {
      "needs_background": "light"
     },
     "output_type": "display_data"
    }
   ],
   "source": [
    "categorical_cols_X_race = ['sex', 'age_cat', 'race', \"score_text\"]\n",
    "numerical_cols_X_race = [el for el in X_compas.columns if el not in categorical_cols_X_compas]\n",
    "\n",
    "df_race = df_select\n",
    "df_race = pd.get_dummies(df_select, columns=categorical_cols_X_race, prefix=categorical_cols_X_race, prefix_sep='_')\n",
    "\n",
    "part_dep_vals = {}\n",
    "\n",
    "for col in numerical_cols_X_race:\n",
    "    df_race[col] = df_race[[col]].to_numpy()\n",
    "\n",
    "\n",
    "\n",
    "\n",
    "    #PartialDependenceDisplay.from_estimator(log_reg_race, X_race, X_race.columns)\n",
    "\n",
    "for i, param in enumerate(X_compas.columns):\n",
    "\n",
    "    for race in [\"race_African-American\", \"race_Caucasian\"]:\n",
    "        \n",
    "        X_race = df_race[df_race[race] == 1]\n",
    "        Y_race = df_race[df_race[race] == 1]\n",
    "\n",
    "        Y_race = Y_race[[\"two_year_recid\"]]\n",
    "        Y_race = np.ravel(Y_race)\n",
    "        X_race = X_race.drop(columns=[\"two_year_recid\", \"id\", \"name\", \"is_violent_recid\", \"is_recid\"])\n",
    "\n",
    "        log_reg_race = LogisticRegression(max_iter=1000) \n",
    "        log_reg_race.fit(X_race, Y_race) \n",
    "\n",
    "        x_pd = partial_dependence(log_reg_race, X_race, [i])[1][0]\n",
    "        #x_pd = (x_pd_raw - np.min(x_pd_raw)) / (np.max(x_pd_raw) - np.min(x_pd_raw)) # standardiserer alle x-verdier til å ligge mellom 0 og 1\n",
    "        y_pd = partial_dependence(log_reg_race, X_race, [i])[0][0]\n",
    "\n",
    "        \n",
    "        if param not in part_dep_vals.keys():\n",
    "            part_dep_vals[param] = {}\n",
    "            part_dep_vals[param][race] = (x_pd, y_pd)\n",
    "        elif race not in part_dep_vals[param].keys():\n",
    "            part_dep_vals[param][race] = (x_pd, y_pd)\n",
    "        else:\n",
    "            part_dep_vals[param][race][1] = (x_pd, y_pd)\n",
    "\n",
    "print(part_dep_vals[\"juv_fel_count\"][\"race_African-American\"][0], part_dep_vals[\"juv_fel_count\"][\"race_African-American\"][1])\n",
    "    \n",
    "for param in part_dep_vals.keys():\n",
    "    labels = []\n",
    "    plt.plot(part_dep_vals[param][\"race_African-American\"][0], part_dep_vals[param][\"race_Caucasian\"][1], alpha = 0.6, lw = 3)\n",
    "    plt.plot(part_dep_vals[param][\"race_African-American\"][0], part_dep_vals[param][\"race_Caucasian\"][1], alpha = 0.6, lw = 3)\n",
    "    labels.append(param)\n",
    "            \n",
    "    plt.legend(labels)\n",
    "    plt.show()\n",
    "\n",
    "plt.gcf().set_size_inches(16, 26)"
   ]
  }
 ],
 "metadata": {
  "kernelspec": {
   "display_name": "Python 3 (ipykernel)",
   "language": "python",
   "name": "python3"
  },
  "language_info": {
   "codemirror_mode": {
    "name": "ipython",
    "version": 3
   },
   "file_extension": ".py",
   "mimetype": "text/x-python",
   "name": "python",
   "nbconvert_exporter": "python",
   "pygments_lexer": "ipython3",
   "version": "3.9.7"
  }
 },
 "nbformat": 4,
 "nbformat_minor": 5
}
