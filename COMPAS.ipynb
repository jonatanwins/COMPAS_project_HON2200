{
 "cells": [
  {
   "cell_type": "code",
   "execution_count": 3,
   "id": "370b37c5",
   "metadata": {},
   "outputs": [],
   "source": [
    "import pandas as pd\n",
    "import numpy as np\n",
    "import matplotlib.pyplot as plt\n",
    "from sklearn.inspection import PartialDependenceDisplay\n",
    "from sklearn.linear_model import LogisticRegression\n",
    "from sklearn.model_selection import train_test_split\n",
    "from sklearn.metrics import confusion_matrix\n",
    "from sklearn.metrics import accuracy_score\n"
   ]
  },
  {
   "cell_type": "markdown",
   "id": "69c5ce01",
   "metadata": {},
   "source": [
    "### 1a) les inn og forstå dataene"
   ]
  },
  {
   "cell_type": "code",
   "execution_count": 4,
   "id": "f68c7fdd",
   "metadata": {},
   "outputs": [],
   "source": [
    "url = \"https://raw.githubusercontent.com/propublica/compas-analysis/master/compas-scores-two-years.csv\"\n",
    "\n",
    "df = pd.read_csv(url)"
   ]
  },
  {
   "cell_type": "code",
   "execution_count": 5,
   "id": "7ca7cbc8",
   "metadata": {},
   "outputs": [],
   "source": [
    "#df.columns\n",
    "df_select = df[[\"id\", \"name\", \"sex\", \"age_cat\", \"race\", \"two_year_recid\", \"juv_fel_count\", \"juv_misd_count\", \"juv_other_count\", \"priors_count\", \"is_recid\", \"is_violent_recid\", \"v_decile_score\", \"score_text\" ]]"
   ]
  },
  {
   "cell_type": "markdown",
   "id": "e52b9229",
   "metadata": {},
   "source": [
    "*Hvilke kolonner skal vi velge?*\n",
    "\n",
    "id, name, sex, dob, age, race, two_year_recid, , juv_fel_count, juv_misd_count, juv_other_count\n",
    "priors_count, c_charge_degree, is_recid, r_charge_degree, is_violent_recid, v_decile_score, \n",
    "\n",
    "Kanskje:\n",
    "compas_screening_date, days_b_screening_arrest, type_of_assessment \n",
    "\n",
    "### Kolonnenes betydning\n",
    "\n",
    "- **id:** ID-nummer.\n",
    "\n",
    "- **name:** kandidatens fulle navn.\n",
    "\n",
    "- **first:** fornavn.\n",
    "\n",
    "- **last:** etternavn.\n",
    "\n",
    "- **compas_screening_date:** dato for undersøkelse.\n",
    "\n",
    "- **sex:** kjønn.\n",
    "\n",
    "- **dob:** fødselsdato.\n",
    "\n",
    "- **age:** alder.\n",
    "\n",
    "- **age_cat:** alderkategori.\n",
    "\n",
    "- **v_decile_score:**\n",
    "\n",
    "- **v_score_text:**\n",
    "\n",
    "- **v_screening_date:**\n",
    "\n",
    "- **in_custody:** dato for ivaretektsfengsling\n",
    "\n",
    "- **out_custody:** dato for løslatelse\n",
    "\n",
    "- **priors_count.1:**\n",
    "\n",
    "- **start:**\n",
    "\n",
    "- **end:**\n",
    "\n",
    "- **event:**\n",
    "\n",
    "- **two_year_recid:** hvorvidt kandidaten begikk et nytt lovbrudd innen to år"
   ]
  },
  {
   "cell_type": "markdown",
   "id": "12d996f1",
   "metadata": {},
   "source": [
    "#### \n",
    "#### \n",
    "- Hvor ofte ulike grupperinger av mennesker (kvinner, menn, hvite og svarte) gjentar forbrytelser og blir predikert til å begå straffbare handlinger i framtiden (som andel, ikke totalt antall):"
   ]
  },
  {
   "cell_type": "code",
   "execution_count": 6,
   "id": "bb2058c8",
   "metadata": {},
   "outputs": [
    {
     "data": {
      "text/plain": [
       "<matplotlib.legend.Legend at 0x7fc3a594b700>"
      ]
     },
     "execution_count": 6,
     "metadata": {},
     "output_type": "execute_result"
    },
    {
     "data": {
      "image/png": "[encoded data removed]",
      "text/plain": [
       "<Figure size 432x288 with 1 Axes>"
      ]
     },
     "metadata": {
      "needs_background": "light"
     },
     "output_type": "display_data"
    }
   ],
   "source": [
    "# Velger ut undergrupper for menn, kvinner, hvite og svarte\n",
    "df_male = df_select[df_select[\"sex\"] == \"Male\"]\n",
    "df_female = df_select[df_select[\"sex\"] == \"Female\"]\n",
    "df_white = df_select[df_select[\"race\"] == \"Caucasian\"]\n",
    "df_black = df_select[df_select[\"race\"] == \"African-American\"]\n",
    "\n",
    "\n",
    "# prosent av gruppen som begår en forbrytelse på nytt innen to år\n",
    "male_recid = len(df_male[df_male[\"two_year_recid\"]==1].index) / len(df_male.index)*100\n",
    "female_recid = len(df_female[df_female[\"two_year_recid\"]==1].index) / len(df_female.index)*100\n",
    "white_recid = len(df_white[df_white[\"two_year_recid\"]==1].index) / len(df_white.index)*100\n",
    "black_recid = len(df_black[df_black[\"two_year_recid\"]==1].index) / len(df_black.index)*100\n",
    "\n",
    "\n",
    "# velger nivå high som at de predikeres til å begå forbrytelese\n",
    "male_pred = len(df_male[df_male[\"score_text\"] == \"High\"].index) / len(df_male.index)*100\n",
    "female_pred = len(df_female[df_female[\"score_text\"] == \"High\"].index) / len(df_female.index)*100\n",
    "white_pred = len(df_white[df_white[\"score_text\"] == \"High\"].index) / len(df_white.index)*100\n",
    "black_pred = len(df_black[df_black[\"score_text\"] == \"High\"].index) / len(df_black.index)*100\n",
    "\n",
    "\n",
    "labels = [\"Menn\", \"kvinner\", \"Hvite\", \"Svarte\"]\n",
    "x = np.arange(len(labels))\n",
    "\n",
    "y1 =  [male_recid, female_recid, white_recid, black_recid]\n",
    "y2 = [male_pred, female_pred, white_pred, black_pred]\n",
    "width = 0.40\n",
    "\n",
    "plt.bar(x-0.2, y1, width)\n",
    "plt.bar(x+0.2, y2, width)\n",
    "plt.xticks(x, labels)\n",
    "plt.legend(['Faktisk', 'Predikert'])"
   ]
  },
  {
   "cell_type": "markdown",
   "id": "6cf4c968",
   "metadata": {},
   "source": [
    "#### \n",
    "#### \n",
    "- Hvor ofte ulike grupper fikk ulike risikoskårer:"
   ]
  },
  {
   "cell_type": "code",
   "execution_count": 30,
   "id": "282411ed",
   "metadata": {},
   "outputs": [
    {
     "data": {
      "text/plain": [
       "<matplotlib.legend.Legend at 0x7fc3a4bce0a0>"
      ]
     },
     "execution_count": 30,
     "metadata": {},
     "output_type": "execute_result"
    },
    {
     "data": {
      "image/png": "[encoded data removed]",
      "text/plain": [
       "<Figure size 432x288 with 1 Axes>"
      ]
     },
     "metadata": {
      "needs_background": "light"
     },
     "output_type": "display_data"
    }
   ],
   "source": [
    "low = [len(df_male[df_male[\"score_text\"] == \"Low\"].index),\n",
    "       len(df_female[df_female[\"score_text\"] == \"Low\"].index),\n",
    "       len(df_white[df_white[\"score_text\"] == \"Low\"].index),\n",
    "       len(df_black[df_black[\"score_text\"] == \"Low\"].index)]\n",
    "\n",
    "medium = [len(df_male[df_male[\"score_text\"] == \"Medium\"].index),\n",
    "          len(df_female[df_female[\"score_text\"] == \"Medium\"].index),\n",
    "          len(df_white[df_white[\"score_text\"] == \"Medium\"].index),\n",
    "          len(df_black[df_black[\"score_text\"] == \"Medium\"].index)]\n",
    "\n",
    "high = [len(df_male[df_male[\"score_text\"] == \"High\"].index),\n",
    "       len(df_female[df_female[\"score_text\"] == \"High\"].index),\n",
    "       len(df_white[df_white[\"score_text\"] == \"High\"].index),\n",
    "       len(df_black[df_black[\"score_text\"] == \"High\"].index)]\n",
    "\n",
    "\n",
    "col_labs = [\"Low\", \"Medium\", \"High\", \"h\"]\n",
    "x_labs = [\"Menn\", \"Kvinner\", \"Hvite\" ,\"Svarte\"]\n",
    "x = np.arange(len(col_labs))\n",
    "width = 0.30\n",
    "\n",
    "# Plotter risikoskårene i grupper ved siden av hverandre\n",
    "low = plt.bar(x-width, low, width, color='g')\n",
    "medium = plt.bar(x, medium, width, color='orange')\n",
    "high = plt.bar(x+width, high, width, color='r')\n",
    "\n",
    "plt.xticks(x, x_labs)\n",
    "plt.legend(col_labs)"
   ]
  },
  {
   "cell_type": "markdown",
   "id": "56112f72",
   "metadata": {},
   "source": [
    "\n",
    "Plottet ovenfor viser hvor ofte de som begikk straffbare handlinger fikk ulike risikoskårer.\n",
    "\n",
    "Risikoskårene er prediksjoner for hvor sannsynlig det er at de begår et nytt lovbrudd innen to år."
   ]
  },
  {
   "cell_type": "code",
   "execution_count": 8,
   "id": "d7a3be5f",
   "metadata": {},
   "outputs": [
    {
     "data": {
      "text/plain": [
       "<matplotlib.legend.Legend at 0x7fc3a57a2910>"
      ]
     },
     "execution_count": 8,
     "metadata": {},
     "output_type": "execute_result"
    },
    {
     "data": {
      "image/png": "[encoded data removed]",
      "text/plain": [
       "<Figure size 432x288 with 1 Axes>"
      ]
     },
     "metadata": {
      "needs_background": "light"
     },
     "output_type": "display_data"
    }
   ],
   "source": [
    "\n",
    "# Gold_pos er de som begikk nye lovbrudd innen to år\n",
    "gold_pos = df_select[df_select[\"two_year_recid\"] == 1]\n",
    "gold_neg = df_select[df_select[\"two_year_recid\"] == 0]\n",
    "\n",
    "# True pos er de som begikk nye lovbrudd og ble predikert til å begå nye lovbrudd\n",
    "true_pos = gold_pos[gold_pos[\"score_text\"] == \"High\"]\n",
    "false_pos = gold_neg[gold_neg[\"score_text\"] == \"High\"]\n",
    "\n",
    "true_neg = gold_neg[gold_neg[\"score_text\"] == \"Low\"] + gold_neg[gold_neg[\"score_text\"] == \"Medium\"]\n",
    "false_neg = gold_pos[gold_pos[\"score_text\"] == \"Low\"] + gold_pos[gold_pos[\"score_text\"] == \"Medium\"]\n",
    "\n",
    "col_labs = [\"true\", \"false\"]\n",
    "x_labs = [\"Recidivist\", \"Non-recidivist\"]\n",
    "x = np.arange(len(col_labs))\n",
    "width = 0.4\n",
    "\n",
    "plt.bar(x-0.20, [len(true_pos.index), len(true_neg.index)], width)\n",
    "plt.bar(x+0.20, [len(false_pos.index), len(false_neg.index)], width)\n",
    "\n",
    "plt.xticks(x, x_labs)\n",
    "plt.legend(col_labs)"
   ]
  },
  {
   "cell_type": "markdown",
   "id": "dcc905fa",
   "metadata": {},
   "source": [
    "#### \n",
    "#### \n",
    "- Hvordan de som begikk nye straffbare handlinger (og de som ikke gjorde det) fikk ulike risikoskårer - hvite versus svarte:"
   ]
  },
  {
   "cell_type": "code",
   "execution_count": 9,
   "id": "f802a839",
   "metadata": {},
   "outputs": [
    {
     "data": {
      "text/plain": [
       "<matplotlib.legend.Legend at 0x7fc3a5391970>"
      ]
     },
     "execution_count": 9,
     "metadata": {},
     "output_type": "execute_result"
    },
    {
     "data": {
      "image/png": "[encoded data removed]",
      "text/plain": [
       "<Figure size 432x288 with 1 Axes>"
      ]
     },
     "metadata": {
      "needs_background": "light"
     },
     "output_type": "display_data"
    }
   ],
   "source": [
    "gold_pos_white = gold_pos[gold_pos[\"race\"] == \"Caucasian\"]\n",
    "gold_pos_black = gold_pos[gold_pos[\"race\"] == \"African-American\"]\n",
    "gold_neg_white = gold_neg[gold_neg[\"race\"] == \"Caucasian\"]\n",
    "gold_neg_black = gold_neg[gold_neg[\"race\"] == \"African-American\"]\n",
    "\n",
    "false_pos_white = gold_neg_white[gold_neg_white[\"score_text\"] == \"High\"]\n",
    "false_pos_black = gold_neg_black[gold_neg_black[\"score_text\"] == \"High\"]\n",
    "\n",
    "false_neg_white = gold_pos_white[gold_pos_white[\"score_text\"] == \"Low\"] + gold_pos_white[gold_pos_white[\"score_text\"] == \"Medium\"]\n",
    "false_neg_black = gold_pos_black[gold_pos_black[\"score_text\"] == \"Low\"] + gold_pos_black[gold_pos_black[\"score_text\"] == \"Medium\"]\n",
    "\n",
    "col_labs = [\"false positive\", \"false negative\"]\n",
    "x_labs = [\"White\", \"Black\"]\n",
    "x = np.arange(len(col_labs))\n",
    "width = 0.4\n",
    "\n",
    "plt.bar(x-0.2, [len(false_pos_white.index), len(false_neg_white.index)], width)\n",
    "plt.bar(x+0.2, [len(false_pos_black.index), len(false_neg_black.index)], width)\n",
    "\n",
    "plt.xticks(x, x_labs)\n",
    "plt.title(\"Feilprediksjoner for svarte og hvite (rådata)\")\n",
    "plt.legend(col_labs)"
   ]
  },
  {
   "cell_type": "code",
   "execution_count": 31,
   "id": "9eb8a7a8",
   "metadata": {},
   "outputs": [
    {
     "data": {
      "text/plain": [
       "<matplotlib.legend.Legend at 0x7fc3a4bb4a90>"
      ]
     },
     "execution_count": 31,
     "metadata": {},
     "output_type": "execute_result"
    },
    {
     "data": {
      "image/png": "[encoded data removed]",
      "text/plain": [
       "<Figure size 432x288 with 1 Axes>"
      ]
     },
     "metadata": {
      "needs_background": "light"
     },
     "output_type": "display_data"
    }
   ],
   "source": [
    "pos_white_ratio = len(false_pos_white.index) / len(df_white.index) * 100\n",
    "pos_black_ratio = len(false_pos_black.index) / len(df_black.index) * 100\n",
    "neg_white_ratio = len(false_neg_white.index) / len(df_white.index) * 100\n",
    "neg_black_ratio = len(false_neg_black.index) / len(df_black.index) * 100\n",
    "\n",
    "col_labs = [\"false positive\", \"false negative\"]\n",
    "x_labs = [\"White\", \"Black\"]\n",
    "x = np.arange(len(col_labs))\n",
    "width = 0.4\n",
    "\n",
    "plt.bar(x-0.2, [pos_white_ratio, pos_black_ratio], width)\n",
    "plt.bar(x+0.2, [neg_white_ratio, neg_black_ratio], width)\n",
    "\n",
    "plt.xticks(x, x_labs)\n",
    "plt.title(\"Feilprediksjoner for svarte og hvite (andel)\")\n",
    "plt.legend(col_labs)"
   ]
  },
  {
   "cell_type": "markdown",
   "id": "eece89aa",
   "metadata": {},
   "source": [
    "### 1 d)"
   ]
  },
  {
   "cell_type": "code",
   "execution_count": 34,
   "id": "79c15fe1",
   "metadata": {},
   "outputs": [],
   "source": [
    "# Velger ut data for å trene modeller, med og uten COMPAS-data\n",
    "X_compas = df_select.drop(columns = ['id','name','two_year_recid', \"is_violent_recid\", \"is_recid\"])\n",
    "X_pure = X_compas.drop(columns = [\"score_text\", \"v_decile_score\"])\n",
    "\n",
    "categorical_cols_X_compas = ['sex', 'age_cat', 'race', \"score_text\"] # skal konverteres til kategoriske vha one-hot encoding\n",
    "numerical_cols_X_compas = [el for el in X_compas.columns if el not in categorical_cols_X_compas] #skal konverteres til arrays av int\n",
    "\n",
    "#Konverterer verdier til kategoriske vha one-hot-encoding\n",
    "X_compas = pd.get_dummies(X_compas, columns=categorical_cols_X_compas, prefix=categorical_cols_X_compas, prefix_sep='_')\n",
    "\n",
    "categorical_cols_X_pure = ['sex', 'age_cat', 'race']\n",
    "numerical_cols_X_pure = [el for el in X_pure.columns if el not in categorical_cols_X_pure] #lager en liste av alle som ikke skal være kategoriske\n",
    "\n",
    "#Konverterer verdier til kategoriske vha one-hot-encoding\n",
    "X_pure = pd.get_dummies(X_pure, columns=categorical_cols_X_pure, prefix=categorical_cols_X_pure, prefix_sep='_')\n",
    "\n",
    "\n",
    "#Det som skal predikeres\n",
    "Y = df_select[[\"two_year_recid\"]]\n",
    "Y = np.ravel(Y)\n",
    "\n",
    "#konverterer numeriske verdier til numpy-array av int\n",
    "for col in numerical_cols_X_compas:\n",
    "    X_compas[col] = X_compas[[col]].to_numpy()\n",
    "\n",
    "for col in numerical_cols_X_pure:\n",
    "    X_pure[col] = X_pure[[col]].to_numpy()\n",
    "\n",
    "    "
   ]
  },
  {
   "cell_type": "code",
   "execution_count": 13,
   "id": "f44a8897",
   "metadata": {},
   "outputs": [
    {
     "data": {
      "text/plain": [
       "array([[0.39133231, 0.60866769],\n",
       "       [0.78669391, 0.21330609],\n",
       "       [0.71308162, 0.28691838],\n",
       "       ...,\n",
       "       [0.54087973, 0.45912027],\n",
       "       [0.16837349, 0.83162651],\n",
       "       [0.63181081, 0.36818919]])"
      ]
     },
     "execution_count": 13,
     "metadata": {},
     "output_type": "execute_result"
    }
   ],
   "source": [
    "#Model som predikerer uten COMPAS-data og model som predikerer utifra COMPAS\n",
    "\n",
    "#logistisk regresjonsmodell\n",
    "\n",
    "#Pure\n",
    "Xp_train, Xp_test, Y_train, Y_test = train_test_split(X_pure, Y, test_size = 0.2, random_state = 0)\n",
    "log_reg_pure = LogisticRegression(max_iter=1000)\n",
    "\n",
    "log_reg_pure.fit(Xp_train, Y_train)\n",
    "\n",
    "log_reg_pure.predict(Xp_train)\n",
    "log_reg_pure.predict_proba(Xp_train)\n",
    "\n",
    "#Compas\n",
    "Xc_train, Xc_test, Y_train, Y_test = train_test_split(X_compas, Y, test_size = 0.2, random_state = 0)\n",
    "log_reg_compas = LogisticRegression(max_iter=1000)\n",
    "\n",
    "log_reg_compas.fit(Xc_train, Y_train)\n",
    "\n",
    "log_reg_compas.predict(Xc_train)\n",
    "log_reg_compas.predict_proba(Xc_train)\n",
    "\n"
   ]
  },
  {
   "cell_type": "code",
   "execution_count": 35,
   "id": "bc0370ca",
   "metadata": {},
   "outputs": [
    {
     "name": "stdout",
     "output_type": "stream",
     "text": [
      "0.6604296604296604\n",
      "0.6805266805266805\n"
     ]
    }
   ],
   "source": [
    "#Tester treffsikkerheten til modellene \n",
    "\n",
    "#pure\n",
    "print(log_reg_pure.score(Xp_test, Y_test))\n",
    "\n",
    "#Compas\n",
    "print(log_reg_compas.score(Xc_test, Y_test))"
   ]
  },
  {
   "cell_type": "code",
   "execution_count": 36,
   "id": "976ef257",
   "metadata": {},
   "outputs": [
    {
     "name": "stdout",
     "output_type": "stream",
     "text": [
      "Antallet sanne negative er 3093, antallet falske positive er 870, antallet falske negative er 1549 og antallet sanne positive er 1702.\n"
     ]
    }
   ],
   "source": [
    "#Lager confusion matrix for de ulike gruppene for pure\n",
    "y_pred = log_reg_pure.predict(X_pure)\n",
    "\n",
    "tn, fp, fn, tp = confusion_matrix(Y, y_pred).ravel()\n",
    "print(f\"Antallet sanne negative er {tn}, antallet falske positive er {fp}, antallet falske negative er {fn} og antallet sanne positive er {tp}.\")"
   ]
  },
  {
   "cell_type": "code",
   "execution_count": 37,
   "id": "077455b0",
   "metadata": {},
   "outputs": [
    {
     "ename": "ValueError",
     "evalue": "Feature priors_countflere parametre her not in feature_names",
     "output_type": "error",
     "traceback": [
      "\u001b[0;31m---------------------------------------------------------------------------\u001b[0m",
      "\u001b[0;31mValueError\u001b[0m                                Traceback (most recent call last)",
      "\u001b[0;32m~/.local/lib/python3.8/site-packages/sklearn/inspection/_plot/partial_dependence.py\u001b[0m in \u001b[0;36mconvert_feature\u001b[0;34m(fx)\u001b[0m\n\u001b[1;32m    376\u001b[0m             \u001b[0;32mtry\u001b[0m\u001b[0;34m:\u001b[0m\u001b[0;34m\u001b[0m\u001b[0;34m\u001b[0m\u001b[0m\n\u001b[0;32m--> 377\u001b[0;31m                 \u001b[0mfx\u001b[0m \u001b[0;34m=\u001b[0m \u001b[0mfeature_names\u001b[0m\u001b[0;34m.\u001b[0m\u001b[0mindex\u001b[0m\u001b[0;34m(\u001b[0m\u001b[0mfx\u001b[0m\u001b[0;34m)\u001b[0m\u001b[0;34m\u001b[0m\u001b[0;34m\u001b[0m\u001b[0m\n\u001b[0m\u001b[1;32m    378\u001b[0m             \u001b[0;32mexcept\u001b[0m \u001b[0mValueError\u001b[0m \u001b[0;32mas\u001b[0m \u001b[0me\u001b[0m\u001b[0;34m:\u001b[0m\u001b[0;34m\u001b[0m\u001b[0;34m\u001b[0m\u001b[0m\n",
      "\u001b[0;31mValueError\u001b[0m: 'priors_countflere parametre her' is not in list",
      "\nThe above exception was the direct cause of the following exception:\n",
      "\u001b[0;31mValueError\u001b[0m                                Traceback (most recent call last)",
      "\u001b[0;32m/tmp/ipykernel_23464/3367432874.py\u001b[0m in \u001b[0;36m<module>\u001b[0;34m\u001b[0m\n\u001b[1;32m      2\u001b[0m \u001b[0mfeatures\u001b[0m \u001b[0;34m=\u001b[0m \u001b[0;34m[\u001b[0m\u001b[0;34m\"priors_count\"\u001b[0m \u001b[0;34m'''flere parametre her'''\u001b[0m\u001b[0;34m]\u001b[0m\u001b[0;34m\u001b[0m\u001b[0;34m\u001b[0m\u001b[0m\n\u001b[1;32m      3\u001b[0m \u001b[0;34m\u001b[0m\u001b[0m\n\u001b[0;32m----> 4\u001b[0;31m \u001b[0mPartialDependenceDisplay\u001b[0m\u001b[0;34m.\u001b[0m\u001b[0mfrom_estimator\u001b[0m\u001b[0;34m(\u001b[0m\u001b[0;34m'''klassifikator her'''\u001b[0m\u001b[0;34m,\u001b[0m \u001b[0mdf_select\u001b[0m\u001b[0;34m,\u001b[0m \u001b[0mfeatures\u001b[0m\u001b[0;34m)\u001b[0m\u001b[0;34m\u001b[0m\u001b[0;34m\u001b[0m\u001b[0m\n\u001b[0m\u001b[1;32m      5\u001b[0m \u001b[0;34m\u001b[0m\u001b[0m\n\u001b[1;32m      6\u001b[0m \u001b[0mplt\u001b[0m\u001b[0;34m.\u001b[0m\u001b[0mgcf\u001b[0m\u001b[0;34m(\u001b[0m\u001b[0;34m)\u001b[0m\u001b[0;34m.\u001b[0m\u001b[0mset_size_inches\u001b[0m\u001b[0;34m(\u001b[0m\u001b[0;36m15\u001b[0m\u001b[0;34m,\u001b[0m \u001b[0;36m10\u001b[0m\u001b[0;34m)\u001b[0m\u001b[0;34m\u001b[0m\u001b[0;34m\u001b[0m\u001b[0m\n",
      "\u001b[0;32m~/.local/lib/python3.8/site-packages/sklearn/inspection/_plot/partial_dependence.py\u001b[0m in \u001b[0;36mfrom_estimator\u001b[0;34m(cls, estimator, X, features, feature_names, target, response_method, n_cols, grid_resolution, percentiles, method, n_jobs, verbose, line_kw, ice_lines_kw, pd_line_kw, contour_kw, ax, kind, subsample, random_state)\u001b[0m\n\u001b[1;32m    911\u001b[0m         \"\"\"\n\u001b[1;32m    912\u001b[0m         \u001b[0mcheck_matplotlib_support\u001b[0m\u001b[0;34m(\u001b[0m\u001b[0;34mf\"{cls.__name__}.from_estimator\"\u001b[0m\u001b[0;34m)\u001b[0m  \u001b[0;31m# noqa\u001b[0m\u001b[0;34m\u001b[0m\u001b[0;34m\u001b[0m\u001b[0m\n\u001b[0;32m--> 913\u001b[0;31m         return _plot_partial_dependence(\n\u001b[0m\u001b[1;32m    914\u001b[0m             \u001b[0mestimator\u001b[0m\u001b[0;34m,\u001b[0m\u001b[0;34m\u001b[0m\u001b[0;34m\u001b[0m\u001b[0m\n\u001b[1;32m    915\u001b[0m             \u001b[0mX\u001b[0m\u001b[0;34m,\u001b[0m\u001b[0;34m\u001b[0m\u001b[0;34m\u001b[0m\u001b[0m\n",
      "\u001b[0;32m~/.local/lib/python3.8/site-packages/sklearn/inspection/_plot/partial_dependence.py\u001b[0m in \u001b[0;36m_plot_partial_dependence\u001b[0;34m(estimator, X, features, feature_names, target, response_method, n_cols, grid_resolution, percentiles, method, n_jobs, verbose, line_kw, ice_lines_kw, pd_line_kw, contour_kw, ax, kind, subsample, random_state)\u001b[0m\n\u001b[1;32m    386\u001b[0m             \u001b[0mfxs\u001b[0m \u001b[0;34m=\u001b[0m \u001b[0;34m(\u001b[0m\u001b[0mfxs\u001b[0m\u001b[0;34m,\u001b[0m\u001b[0;34m)\u001b[0m\u001b[0;34m\u001b[0m\u001b[0;34m\u001b[0m\u001b[0m\n\u001b[1;32m    387\u001b[0m         \u001b[0;32mtry\u001b[0m\u001b[0;34m:\u001b[0m\u001b[0;34m\u001b[0m\u001b[0;34m\u001b[0m\u001b[0m\n\u001b[0;32m--> 388\u001b[0;31m             \u001b[0mfxs\u001b[0m \u001b[0;34m=\u001b[0m \u001b[0mtuple\u001b[0m\u001b[0;34m(\u001b[0m\u001b[0mconvert_feature\u001b[0m\u001b[0;34m(\u001b[0m\u001b[0mfx\u001b[0m\u001b[0;34m)\u001b[0m \u001b[0;32mfor\u001b[0m \u001b[0mfx\u001b[0m \u001b[0;32min\u001b[0m \u001b[0mfxs\u001b[0m\u001b[0;34m)\u001b[0m\u001b[0;34m\u001b[0m\u001b[0;34m\u001b[0m\u001b[0m\n\u001b[0m\u001b[1;32m    389\u001b[0m         \u001b[0;32mexcept\u001b[0m \u001b[0mTypeError\u001b[0m \u001b[0;32mas\u001b[0m \u001b[0me\u001b[0m\u001b[0;34m:\u001b[0m\u001b[0;34m\u001b[0m\u001b[0;34m\u001b[0m\u001b[0m\n\u001b[1;32m    390\u001b[0m             raise ValueError(\n",
      "\u001b[0;32m~/.local/lib/python3.8/site-packages/sklearn/inspection/_plot/partial_dependence.py\u001b[0m in \u001b[0;36m<genexpr>\u001b[0;34m(.0)\u001b[0m\n\u001b[1;32m    386\u001b[0m             \u001b[0mfxs\u001b[0m \u001b[0;34m=\u001b[0m \u001b[0;34m(\u001b[0m\u001b[0mfxs\u001b[0m\u001b[0;34m,\u001b[0m\u001b[0;34m)\u001b[0m\u001b[0;34m\u001b[0m\u001b[0;34m\u001b[0m\u001b[0m\n\u001b[1;32m    387\u001b[0m         \u001b[0;32mtry\u001b[0m\u001b[0;34m:\u001b[0m\u001b[0;34m\u001b[0m\u001b[0;34m\u001b[0m\u001b[0m\n\u001b[0;32m--> 388\u001b[0;31m             \u001b[0mfxs\u001b[0m \u001b[0;34m=\u001b[0m \u001b[0mtuple\u001b[0m\u001b[0;34m(\u001b[0m\u001b[0mconvert_feature\u001b[0m\u001b[0;34m(\u001b[0m\u001b[0mfx\u001b[0m\u001b[0;34m)\u001b[0m \u001b[0;32mfor\u001b[0m \u001b[0mfx\u001b[0m \u001b[0;32min\u001b[0m \u001b[0mfxs\u001b[0m\u001b[0;34m)\u001b[0m\u001b[0;34m\u001b[0m\u001b[0;34m\u001b[0m\u001b[0m\n\u001b[0m\u001b[1;32m    389\u001b[0m         \u001b[0;32mexcept\u001b[0m \u001b[0mTypeError\u001b[0m \u001b[0;32mas\u001b[0m \u001b[0me\u001b[0m\u001b[0;34m:\u001b[0m\u001b[0;34m\u001b[0m\u001b[0;34m\u001b[0m\u001b[0m\n\u001b[1;32m    390\u001b[0m             raise ValueError(\n",
      "\u001b[0;32m~/.local/lib/python3.8/site-packages/sklearn/inspection/_plot/partial_dependence.py\u001b[0m in \u001b[0;36mconvert_feature\u001b[0;34m(fx)\u001b[0m\n\u001b[1;32m    377\u001b[0m                 \u001b[0mfx\u001b[0m \u001b[0;34m=\u001b[0m \u001b[0mfeature_names\u001b[0m\u001b[0;34m.\u001b[0m\u001b[0mindex\u001b[0m\u001b[0;34m(\u001b[0m\u001b[0mfx\u001b[0m\u001b[0;34m)\u001b[0m\u001b[0;34m\u001b[0m\u001b[0;34m\u001b[0m\u001b[0m\n\u001b[1;32m    378\u001b[0m             \u001b[0;32mexcept\u001b[0m \u001b[0mValueError\u001b[0m \u001b[0;32mas\u001b[0m \u001b[0me\u001b[0m\u001b[0;34m:\u001b[0m\u001b[0;34m\u001b[0m\u001b[0;34m\u001b[0m\u001b[0m\n\u001b[0;32m--> 379\u001b[0;31m                 \u001b[0;32mraise\u001b[0m \u001b[0mValueError\u001b[0m\u001b[0;34m(\u001b[0m\u001b[0;34m\"Feature %s not in feature_names\"\u001b[0m \u001b[0;34m%\u001b[0m \u001b[0mfx\u001b[0m\u001b[0;34m)\u001b[0m \u001b[0;32mfrom\u001b[0m \u001b[0me\u001b[0m\u001b[0;34m\u001b[0m\u001b[0;34m\u001b[0m\u001b[0m\n\u001b[0m\u001b[1;32m    380\u001b[0m         \u001b[0;32mreturn\u001b[0m \u001b[0mint\u001b[0m\u001b[0;34m(\u001b[0m\u001b[0mfx\u001b[0m\u001b[0;34m)\u001b[0m\u001b[0;34m\u001b[0m\u001b[0;34m\u001b[0m\u001b[0m\n\u001b[1;32m    381\u001b[0m \u001b[0;34m\u001b[0m\u001b[0m\n",
      "\u001b[0;31mValueError\u001b[0m: Feature priors_countflere parametre her not in feature_names"
     ]
    }
   ],
   "source": [
    "# plotter \"partial dependence\"\n",
    "features = [\"priors_count\" '''flere parametre her''']\n",
    "\n",
    "PartialDependenceDisplay.from_estimator('''klassifikator her''', df_select, features)\n",
    "\n",
    "plt.gcf().set_size_inches(15, 10)\n",
    "plt.show()"
   ]
  }
 ],
 "metadata": {
  "kernelspec": {
   "display_name": "Python 3 (ipykernel)",
   "language": "python",
   "name": "python3"
  },
  "language_info": {
   "codemirror_mode": {
    "name": "ipython",
    "version": 3
   },
   "file_extension": ".py",
   "mimetype": "text/x-python",
   "name": "python",
   "nbconvert_exporter": "python",
   "pygments_lexer": "ipython3",
   "version": "3.8.10"
  }
 },
 "nbformat": 4,
 "nbformat_minor": 5
}
